{
 "cells": [
  {
   "cell_type": "code",
   "execution_count": 2,
   "metadata": {},
   "outputs": [],
   "source": [
    "\"\"\"\n",
    "Feb 26, 2020\n",
    "\n",
    "Experimenting on a machine mearning algorithm called Recurrent Neural Network \n",
    "to predict the stock closing price of a company.\n",
    "\n",
    "\"\"\"\n",
    "\n",
    "#IMPORTS \n",
    "import numpy as np\n",
    "import pandas as pd\n",
    "import datetime as dt\n",
    "import matplotlib.pyplot as plt\n",
    "from matplotlib import style\n",
    "import os\n",
    "\n",
    "from sklearn.preprocessing import MinMaxScaler\n",
    "from keras.models import Sequential, load_model\n",
    "from keras.layers import LSTM, Dense, Dropout\n",
    "\n",
    "from psequant import get_pse_data"
   ]
  },
  {
   "cell_type": "code",
   "execution_count": 6,
   "metadata": {},
   "outputs": [
    {
     "name": "stdout",
     "output_type": "stream",
     "text": [
      "Stock table exists!\n",
      "Reading stock_table.csv ...\n",
      "             open   high    low  close        value\n",
      "dt                                                 \n",
      "2016-01-04  21.85  21.85  21.05  21.35  184891005.0\n",
      "2016-01-05  21.30  21.85  20.90  21.55  170322150.0\n",
      "2016-01-06  21.55  21.75  21.20  21.20  256173285.0\n",
      "2016-01-07  21.60  21.60  20.50  20.50  266026950.0\n",
      "2016-01-08  20.05  21.10  20.05  20.60  296123935.0\n"
     ]
    }
   ],
   "source": [
    "# Input what stock you want to predict\n",
    "\n",
    "# Ticker Symbol only for stock (ex: \"JFC\")\n",
    "stock = \"SMPH\" \n",
    "# Date format (\"yyyy-mm-dd\")\n",
    "begin_date = \"2016-01-01\"\n",
    "end_date = \"2020-01-01\"\n",
    "\n",
    "df = get_pse_data(stock, begin_date, end_date)\n",
    "print(stock_table.head())"
   ]
  },
  {
   "cell_type": "code",
   "execution_count": 7,
   "metadata": {},
   "outputs": [
    {
     "name": "stdout",
     "output_type": "stream",
     "text": [
      "(976, 1)\n"
     ]
    },
    {
     "data": {
      "text/plain": [
       "array([[21.85],\n",
       "       [21.3 ],\n",
       "       [21.55],\n",
       "       [21.6 ],\n",
       "       [20.05]])"
      ]
     },
     "execution_count": 7,
     "metadata": {},
     "output_type": "execute_result"
    }
   ],
   "source": [
    "df = df['open'].values\n",
    "df = df.reshape(-1, 1)\n",
    "print(df.shape)\n",
    "# To see the first five items\n",
    "df[:5] \n"
   ]
  },
  {
   "cell_type": "code",
   "execution_count": 8,
   "metadata": {},
   "outputs": [
    {
     "name": "stdout",
     "output_type": "stream",
     "text": [
      "(780, 1)\n",
      "(246, 1)\n"
     ]
    }
   ],
   "source": [
    "# Split them into training and test sets\n",
    "\n",
    "dataset_train = np.array(df[:int(df.shape[0]*0.8)])\n",
    "dataset_test = np.array(df[int(df.shape[0]*0.8)-50:])\n",
    "print(dataset_train.shape)\n",
    "print(dataset_test.shape)"
   ]
  },
  {
   "cell_type": "code",
   "execution_count": 9,
   "metadata": {},
   "outputs": [
    {
     "data": {
      "text/plain": [
       "array([[0.14292498],\n",
       "       [0.11680912],\n",
       "       [0.12867996],\n",
       "       [0.13105413],\n",
       "       [0.05745489]])"
      ]
     },
     "execution_count": 9,
     "metadata": {},
     "output_type": "execute_result"
    }
   ],
   "source": [
    "scaler = MinMaxScaler(feature_range=(0,1))\n",
    "dataset_train = scaler.fit_transform(dataset_train)\n",
    "dataset_train[:5]"
   ]
  },
  {
   "cell_type": "code",
   "execution_count": 10,
   "metadata": {},
   "outputs": [
    {
     "data": {
      "text/plain": [
       "array([[0.76020893],\n",
       "       [0.79107312],\n",
       "       [0.81006648],\n",
       "       [0.80769231],\n",
       "       [0.8622982 ]])"
      ]
     },
     "execution_count": 10,
     "metadata": {},
     "output_type": "execute_result"
    }
   ],
   "source": [
    "dataset_test = scaler.transform(dataset_test)\n",
    "dataset_test[:5]"
   ]
  },
  {
   "cell_type": "code",
   "execution_count": 11,
   "metadata": {},
   "outputs": [],
   "source": [
    "\n",
    "def create_dataset(df):\n",
    "    x = []\n",
    "    y = []\n",
    "    for i in range(50, df.shape[0]):\n",
    "        x.append(df[i-50:i, 0])\n",
    "        y.append(df[i, 0])\n",
    "    x = np.array(x)\n",
    "    y = np.array(y)\n",
    "    return x,y"
   ]
  },
  {
   "cell_type": "code",
   "execution_count": 12,
   "metadata": {},
   "outputs": [
    {
     "data": {
      "text/plain": [
       "array([[0.14292498, 0.11680912, 0.12867996, 0.13105413, 0.05745489,\n",
       "        0.07407407, 0.04273504, 0.04653371, 0.05508072, 0.0645774 ,\n",
       "        0.02564103, 0.03608737, 0.0322887 , 0.00474834, 0.        ,\n",
       "        0.02659069, 0.04083571, 0.06695157, 0.0954416 , 0.09781576,\n",
       "        0.1025641 , 0.10493827, 0.10731244, 0.0954416 , 0.09306743,\n",
       "        0.08831909, 0.07882241, 0.09781576, 0.1025641 , 0.11206078,\n",
       "        0.12155745, 0.13105413, 0.11918329, 0.12155745, 0.10731244,\n",
       "        0.0954416 , 0.09069326, 0.05982906, 0.07882241, 0.09781576,\n",
       "        0.10968661, 0.11918329, 0.12630579, 0.10493827, 0.10731244,\n",
       "        0.11206078, 0.12393162, 0.13580247, 0.11918329, 0.11443495]])"
      ]
     },
     "execution_count": 12,
     "metadata": {},
     "output_type": "execute_result"
    }
   ],
   "source": [
    "x_train, y_train = create_dataset(dataset_train)\n",
    "x_train[:1]"
   ]
  },
  {
   "cell_type": "code",
   "execution_count": 13,
   "metadata": {},
   "outputs": [
    {
     "data": {
      "text/plain": [
       "array([[0.76020893, 0.79107312, 0.81006648, 0.80769231, 0.8622982 ,\n",
       "        0.88603989, 0.93589744, 0.93352327, 0.9311491 , 0.94301994,\n",
       "        0.9620133 , 0.94776828, 0.98100665, 0.98575499, 0.85992403,\n",
       "        0.91690408, 0.97388414, 0.99050332, 0.95963913, 0.98812915,\n",
       "        0.98812915, 0.98575499, 1.        , 0.98812915, 0.9620133 ,\n",
       "        0.94776828, 0.96676163, 0.9382716 , 0.94301994, 0.94064577,\n",
       "        0.95726496, 0.96438746, 0.95726496, 0.95014245, 0.95726496,\n",
       "        0.95014245, 0.92640076, 0.92165242, 0.95489079, 0.91690408,\n",
       "        0.98100665, 0.95726496, 0.95726496, 0.91215575, 0.9002849 ,\n",
       "        0.93352327, 0.88366572, 0.9382716 , 0.93589744, 0.92402659]])"
      ]
     },
     "execution_count": 13,
     "metadata": {},
     "output_type": "execute_result"
    }
   ],
   "source": [
    "x_test, y_test = create_dataset(dataset_test)\n",
    "x_test[:1]"
   ]
  },
  {
   "cell_type": "code",
   "execution_count": 14,
   "metadata": {},
   "outputs": [],
   "source": [
    "# Reshape features for LSTM Layer\n",
    "x_train = np.reshape(x_train, (x_train.shape[0], x_train.shape[1], 1))\n",
    "x_test = np.reshape(x_test, (x_test.shape[0], x_test.shape[1], 1))"
   ]
  },
  {
   "cell_type": "code",
   "execution_count": 15,
   "metadata": {},
   "outputs": [],
   "source": [
    "model = Sequential()\n",
    "model.add(LSTM(units=96, return_sequences=True, input_shape=(x_train.shape[1], 1)))\n",
    "model.add(Dropout(0.2))\n",
    "model.add(LSTM(units=96, return_sequences=True))\n",
    "model.add(Dropout(0.2))\n",
    "model.add(LSTM(units=96, return_sequences=True))\n",
    "model.add(Dropout(0.2))\n",
    "model.add(LSTM(units=96))\n",
    "model.add(Dropout(0.2))\n",
    "model.add(Dense(units=1))"
   ]
  },
  {
   "cell_type": "code",
   "execution_count": 16,
   "metadata": {},
   "outputs": [],
   "source": [
    "model.compile(loss='mean_squared_error', optimizer='adam')"
   ]
  },
  {
   "cell_type": "code",
   "execution_count": 17,
   "metadata": {},
   "outputs": [
    {
     "name": "stdout",
     "output_type": "stream",
     "text": [
      "Epoch 1/50\n",
      "730/730 [==============================] - 5s 7ms/step - loss: 0.0765\n",
      "Epoch 2/50\n",
      "730/730 [==============================] - 2s 3ms/step - loss: 0.0155\n",
      "Epoch 3/50\n",
      "730/730 [==============================] - 2s 3ms/step - loss: 0.0090\n",
      "Epoch 4/50\n",
      "730/730 [==============================] - 2s 3ms/step - loss: 0.0074\n",
      "Epoch 5/50\n",
      "730/730 [==============================] - 2s 3ms/step - loss: 0.0079\n",
      "Epoch 6/50\n",
      "730/730 [==============================] - 2s 3ms/step - loss: 0.0075\n",
      "Epoch 7/50\n",
      "730/730 [==============================] - 2s 3ms/step - loss: 0.0075\n",
      "Epoch 8/50\n",
      "730/730 [==============================] - 3s 3ms/step - loss: 0.0070\n",
      "Epoch 9/50\n",
      "730/730 [==============================] - 2s 3ms/step - loss: 0.0066\n",
      "Epoch 10/50\n",
      "730/730 [==============================] - 2s 3ms/step - loss: 0.0064\n",
      "Epoch 11/50\n",
      "730/730 [==============================] - 2s 3ms/step - loss: 0.0057\n",
      "Epoch 12/50\n",
      "730/730 [==============================] - 2s 3ms/step - loss: 0.0061\n",
      "Epoch 13/50\n",
      "730/730 [==============================] - 3s 4ms/step - loss: 0.0062\n",
      "Epoch 14/50\n",
      "730/730 [==============================] - 3s 4ms/step - loss: 0.0060\n",
      "Epoch 15/50\n",
      "730/730 [==============================] - 3s 4ms/step - loss: 0.0056\n",
      "Epoch 16/50\n",
      "730/730 [==============================] - 3s 4ms/step - loss: 0.0056\n",
      "Epoch 17/50\n",
      "730/730 [==============================] - 3s 4ms/step - loss: 0.0055\n",
      "Epoch 18/50\n",
      "730/730 [==============================] - 3s 3ms/step - loss: 0.0053\n",
      "Epoch 19/50\n",
      "730/730 [==============================] - 3s 3ms/step - loss: 0.0054\n",
      "Epoch 20/50\n",
      "730/730 [==============================] - 3s 3ms/step - loss: 0.0058\n",
      "Epoch 21/50\n",
      "730/730 [==============================] - 3s 4ms/step - loss: 0.0056\n",
      "Epoch 22/50\n",
      "730/730 [==============================] - 3s 3ms/step - loss: 0.0053\n",
      "Epoch 23/50\n",
      "730/730 [==============================] - 3s 3ms/step - loss: 0.0059\n",
      "Epoch 24/50\n",
      "730/730 [==============================] - 3s 4ms/step - loss: 0.0056\n",
      "Epoch 25/50\n",
      "730/730 [==============================] - 3s 4ms/step - loss: 0.0052\n",
      "Epoch 26/50\n",
      "730/730 [==============================] - 3s 3ms/step - loss: 0.0053\n",
      "Epoch 27/50\n",
      "730/730 [==============================] - 3s 4ms/step - loss: 0.0047\n",
      "Epoch 28/50\n",
      "730/730 [==============================] - 2s 3ms/step - loss: 0.0050\n",
      "Epoch 29/50\n",
      "730/730 [==============================] - 2s 3ms/step - loss: 0.0047\n",
      "Epoch 30/50\n",
      "730/730 [==============================] - 2s 3ms/step - loss: 0.0043\n",
      "Epoch 31/50\n",
      "730/730 [==============================] - 2s 3ms/step - loss: 0.0045\n",
      "Epoch 32/50\n",
      "730/730 [==============================] - 2s 3ms/step - loss: 0.0048\n",
      "Epoch 33/50\n",
      "730/730 [==============================] - 2s 3ms/step - loss: 0.0045\n",
      "Epoch 34/50\n",
      "730/730 [==============================] - 2s 3ms/step - loss: 0.0049\n",
      "Epoch 35/50\n",
      "730/730 [==============================] - 2s 3ms/step - loss: 0.0041\n",
      "Epoch 36/50\n",
      "730/730 [==============================] - 2s 3ms/step - loss: 0.0046\n",
      "Epoch 37/50\n",
      "730/730 [==============================] - 3s 3ms/step - loss: 0.0042\n",
      "Epoch 38/50\n",
      "730/730 [==============================] - 3s 3ms/step - loss: 0.0046\n",
      "Epoch 39/50\n",
      "730/730 [==============================] - 3s 3ms/step - loss: 0.0042\n",
      "Epoch 40/50\n",
      "730/730 [==============================] - 3s 4ms/step - loss: 0.0042\n",
      "Epoch 41/50\n",
      "730/730 [==============================] - 3s 4ms/step - loss: 0.0041\n",
      "Epoch 42/50\n",
      "730/730 [==============================] - 3s 4ms/step - loss: 0.0038\n",
      "Epoch 43/50\n",
      "730/730 [==============================] - 3s 4ms/step - loss: 0.0039\n",
      "Epoch 44/50\n",
      "730/730 [==============================] - 3s 4ms/step - loss: 0.0033\n",
      "Epoch 45/50\n",
      "730/730 [==============================] - 3s 3ms/step - loss: 0.0040\n",
      "Epoch 46/50\n",
      "730/730 [==============================] - 3s 4ms/step - loss: 0.0036\n",
      "Epoch 47/50\n",
      "730/730 [==============================] - 3s 4ms/step - loss: 0.0036\n",
      "Epoch 48/50\n",
      "730/730 [==============================] - 3s 4ms/step - loss: 0.0036\n",
      "Epoch 49/50\n",
      "730/730 [==============================] - 3s 4ms/step - loss: 0.0046\n",
      "Epoch 50/50\n",
      "730/730 [==============================] - 3s 4ms/step - loss: 0.0046\n"
     ]
    }
   ],
   "source": [
    "\n",
    "if(not os.path.exists('stock_prediction.h5')):\n",
    "    model.fit(x_train, y_train, epochs=50, batch_size=32)\n",
    "    model.save('stock_prediction.h5')"
   ]
  },
  {
   "cell_type": "code",
   "execution_count": 18,
   "metadata": {},
   "outputs": [],
   "source": [
    "model = load_model('stock_prediction.h5')"
   ]
  },
  {
   "cell_type": "code",
   "execution_count": 19,
   "metadata": {},
   "outputs": [
    {
     "data": {
      "text/plain": [
       "<matplotlib.legend.Legend at 0x236f60177f0>"
      ]
     },
     "execution_count": 19,
     "metadata": {},
     "output_type": "execute_result"
    },
    {
     "data": {
      "image/png": "[encoded data removed]",
      "text/plain": [
       "<Figure size 576x288 with 1 Axes>"
      ]
     },
     "metadata": {
      "needs_background": "light"
     },
     "output_type": "display_data"
    }
   ],
   "source": [
    "predictions = model.predict(x_test)\n",
    "predictions = scaler.inverse_transform(predictions)\n",
    "\n",
    "fig, ax = plt.subplots(figsize=(8,4))\n",
    "plt.plot(df, color='red',  label=\"True Price\")\n",
    "ax.plot(range(len(y_train)+50,len(y_train)+50+len(predictions)),predictions, color='blue', label='Predicted Testing Price')\n",
    "plt.legend()"
   ]
  },
  {
   "cell_type": "code",
   "execution_count": 20,
   "metadata": {},
   "outputs": [
    {
     "data": {
      "text/plain": [
       "<matplotlib.legend.Legend at 0x236ee0638d0>"
      ]
     },
     "execution_count": 20,
     "metadata": {},
     "output_type": "execute_result"
    },
    {
     "data": {
      "image/png": "[encoded data removed]",
      "text/plain": [
       "<Figure size 576x288 with 1 Axes>"
      ]
     },
     "metadata": {
      "needs_background": "light"
     },
     "output_type": "display_data"
    }
   ],
   "source": [
    "y_test_scaled = scaler.inverse_transform(y_test.reshape(-1, 1))\n",
    "\n",
    "fig, ax = plt.subplots(figsize=(8,4))\n",
    "ax.plot(y_test_scaled, color='red', label='True Testing Price')\n",
    "plt.plot(predictions, color='blue', label='Predicted Testing Price')\n",
    "plt.legend()"
   ]
  },
  {
   "cell_type": "code",
   "execution_count": 21,
   "metadata": {},
   "outputs": [
    {
     "name": "stdout",
     "output_type": "stream",
     "text": [
      "[40.664295, 63.664593, 80.87528, 86.21169, 87.76626, 88.12112, 88.11283, 88.00668, 87.88893, 87.78465, 87.69857, 87.62905, 87.5731, 87.5279, 87.49108, 87.4609, 87.43597, 87.41521, 87.39788, 87.38331, 87.37096, 87.3605, 87.35163, 87.344025, 87.337524, 87.33192, 87.32708, 87.32293, 87.31929, 87.316124, 87.3134, 87.31104, 87.30899, 87.30721, 87.30567, 87.30428, 87.30306, 87.30191, 87.30078, 87.29964, 87.29853, 87.297455, 87.29662, 87.29614, 87.29625, 87.29682, 87.29771, 87.29844, 87.29827, 87.29635, 87.29139, 87.284966, 87.28405, 87.28396, 87.28396, 87.28398, 87.28399, 87.28402, 87.28402, 87.28402, 87.28405, 87.28407, 87.28409, 87.284096, 87.28411, 87.284096, 87.28409, 87.284096, 87.28409, 87.28409, 87.284096, 87.28411, 87.28412, 87.28412, 87.28411, 87.28412, 87.28412, 87.28412, 87.28413, 87.28412, 87.28412, 87.28413, 87.28412, 87.28412, 87.28413, 87.28412, 87.28413, 87.28412, 87.28412, 87.28412, 87.28412, 87.28412, 87.28412, 87.28412, 87.28412, 87.28412, 87.28413, 87.28412, 87.28412, 87.28413]\n"
     ]
    }
   ],
   "source": [
    "x = x_test[-1]\n",
    "num_timesteps = 100\n",
    "preds = []\n",
    "for i in range(num_timesteps):\n",
    "    data = np.expand_dims(x, axis=0)\n",
    "    prediction = model.predict(data)\n",
    "    prediction = scaler.inverse_transform(prediction)\n",
    "    preds.append(prediction[0][0])\n",
    "    x = np.delete(x, 0, axis=0) # delete first row\n",
    "    x = np.vstack([x, prediction]) # add prediction\n",
    "\n",
    "print(preds)"
   ]
  },
  {
   "cell_type": "code",
   "execution_count": null,
   "metadata": {},
   "outputs": [],
   "source": []
  }
 ],
 "metadata": {
  "kernelspec": {
   "display_name": "Python 3",
   "language": "python",
   "name": "python3"
  },
  "language_info": {
   "codemirror_mode": {
    "name": "ipython",
    "version": 3
   },
   "file_extension": ".py",
   "mimetype": "text/x-python",
   "name": "python",
   "nbconvert_exporter": "python",
   "pygments_lexer": "ipython3",
   "version": "3.7.1"
  }
 },
 "nbformat": 4,
 "nbformat_minor": 4
}
