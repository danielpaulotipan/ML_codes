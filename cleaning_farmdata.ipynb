{
 "cells": [
  {
   "cell_type": "code",
   "execution_count": 1,
   "metadata": {},
   "outputs": [
    {
     "name": "stderr",
     "output_type": "stream",
     "text": [
      "Using TensorFlow backend.\n"
     ]
    }
   ],
   "source": [
    "import pandas as pd\n",
    "import numpy as np\n",
    "import math\n",
    "\n",
    "import matplotlib.pyplot as plt\n",
    "\n",
    "import sklearn\n",
    "from sklearn.preprocessing import StandardScaler\n",
    "from sklearn.utils import shuffle\n",
    "from sklearn import linear_model\n",
    "\n",
    "from sklearn.preprocessing import MinMaxScaler\n",
    "from keras.models import Sequential\n",
    "from keras.layers import Dense, LSTM"
   ]
  },
  {
   "cell_type": "code",
   "execution_count": 2,
   "metadata": {},
   "outputs": [
    {
     "data": {
      "text/html": [
       "<div>\n",
       "<style scoped>\n",
       "    .dataframe tbody tr th:only-of-type {\n",
       "        vertical-align: middle;\n",
       "    }\n",
       "\n",
       "    .dataframe tbody tr th {\n",
       "        vertical-align: top;\n",
       "    }\n",
       "\n",
       "    .dataframe thead th {\n",
       "        text-align: right;\n",
       "    }\n",
       "</style>\n",
       "<table border=\"1\" class=\"dataframe\">\n",
       "  <thead>\n",
       "    <tr style=\"text-align: right;\">\n",
       "      <th></th>\n",
       "      <th>REGION</th>\n",
       "      <th>PROVINCE</th>\n",
       "      <th>YEAR</th>\n",
       "      <th>price</th>\n",
       "      <th>FOOD USE</th>\n",
       "      <th>TOTAL USE</th>\n",
       "      <th>PRODUCTION</th>\n",
       "      <th>SURPLUS/(DEFICIT)</th>\n",
       "      <th>POPULATION (number of persons)</th>\n",
       "    </tr>\n",
       "  </thead>\n",
       "  <tbody>\n",
       "    <tr>\n",
       "      <th>3</th>\n",
       "      <td>ilocos region</td>\n",
       "      <td>ilocos region(ave)</td>\n",
       "      <td>1990</td>\n",
       "      <td>5.16</td>\n",
       "      <td>409120.0</td>\n",
       "      <td>460189.00</td>\n",
       "      <td>554390.00</td>\n",
       "      <td>94201.00</td>\n",
       "      <td>3558247.0</td>\n",
       "    </tr>\n",
       "    <tr>\n",
       "      <th>4</th>\n",
       "      <td>ilocos region</td>\n",
       "      <td>abra</td>\n",
       "      <td>1990</td>\n",
       "      <td>NaN</td>\n",
       "      <td>409120.0</td>\n",
       "      <td>460189.00</td>\n",
       "      <td>554390.00</td>\n",
       "      <td>94201.00</td>\n",
       "      <td>3558247.0</td>\n",
       "    </tr>\n",
       "    <tr>\n",
       "      <th>5</th>\n",
       "      <td>ilocos region</td>\n",
       "      <td>ilocos norte</td>\n",
       "      <td>1990</td>\n",
       "      <td>5.09</td>\n",
       "      <td>409120.0</td>\n",
       "      <td>460189.00</td>\n",
       "      <td>554390.00</td>\n",
       "      <td>94201.00</td>\n",
       "      <td>3558247.0</td>\n",
       "    </tr>\n",
       "    <tr>\n",
       "      <th>6</th>\n",
       "      <td>ilocos region</td>\n",
       "      <td>ilocos sur</td>\n",
       "      <td>1990</td>\n",
       "      <td>5.10</td>\n",
       "      <td>409120.0</td>\n",
       "      <td>460189.00</td>\n",
       "      <td>554390.00</td>\n",
       "      <td>94201.00</td>\n",
       "      <td>3558247.0</td>\n",
       "    </tr>\n",
       "    <tr>\n",
       "      <th>7</th>\n",
       "      <td>ilocos region</td>\n",
       "      <td>la union</td>\n",
       "      <td>1990</td>\n",
       "      <td>5.22</td>\n",
       "      <td>409120.0</td>\n",
       "      <td>460189.00</td>\n",
       "      <td>554390.00</td>\n",
       "      <td>94201.00</td>\n",
       "      <td>3558247.0</td>\n",
       "    </tr>\n",
       "    <tr>\n",
       "      <th>...</th>\n",
       "      <td>...</td>\n",
       "      <td>...</td>\n",
       "      <td>...</td>\n",
       "      <td>...</td>\n",
       "      <td>...</td>\n",
       "      <td>...</td>\n",
       "      <td>...</td>\n",
       "      <td>...</td>\n",
       "      <td>...</td>\n",
       "    </tr>\n",
       "    <tr>\n",
       "      <th>703</th>\n",
       "      <td>NaN</td>\n",
       "      <td>NaN</td>\n",
       "      <td>1985</td>\n",
       "      <td>NaN</td>\n",
       "      <td>206405.0</td>\n",
       "      <td>268400.70</td>\n",
       "      <td>684195.18</td>\n",
       "      <td>415794.48</td>\n",
       "      <td>2124261.0</td>\n",
       "    </tr>\n",
       "    <tr>\n",
       "      <th>704</th>\n",
       "      <td>NaN</td>\n",
       "      <td>NaN</td>\n",
       "      <td>1970</td>\n",
       "      <td>NaN</td>\n",
       "      <td>334981.0</td>\n",
       "      <td>397517.03</td>\n",
       "      <td>641204.55</td>\n",
       "      <td>243687.52</td>\n",
       "      <td>3635532.0</td>\n",
       "    </tr>\n",
       "    <tr>\n",
       "      <th>705</th>\n",
       "      <td>NaN</td>\n",
       "      <td>NaN</td>\n",
       "      <td>1975</td>\n",
       "      <td>NaN</td>\n",
       "      <td>426031.0</td>\n",
       "      <td>491813.12</td>\n",
       "      <td>666768.75</td>\n",
       "      <td>174955.63</td>\n",
       "      <td>4221846.0</td>\n",
       "    </tr>\n",
       "    <tr>\n",
       "      <th>706</th>\n",
       "      <td>NaN</td>\n",
       "      <td>NaN</td>\n",
       "      <td>1980</td>\n",
       "      <td>NaN</td>\n",
       "      <td>494994.0</td>\n",
       "      <td>573082.16</td>\n",
       "      <td>844041.25</td>\n",
       "      <td>270959.09</td>\n",
       "      <td>4826671.0</td>\n",
       "    </tr>\n",
       "    <tr>\n",
       "      <th>707</th>\n",
       "      <td>NaN</td>\n",
       "      <td>NaN</td>\n",
       "      <td>1985</td>\n",
       "      <td>NaN</td>\n",
       "      <td>586380.0</td>\n",
       "      <td>669687.96</td>\n",
       "      <td>930727.02</td>\n",
       "      <td>261039.06</td>\n",
       "      <td>5487835.0</td>\n",
       "    </tr>\n",
       "  </tbody>\n",
       "</table>\n",
       "<p>621 rows × 9 columns</p>\n",
       "</div>"
      ],
      "text/plain": [
       "            REGION            PROVINCE  YEAR  price  FOOD USE  TOTAL USE  \\\n",
       "3    ilocos region  ilocos region(ave)  1990   5.16  409120.0  460189.00   \n",
       "4    ilocos region                abra  1990    NaN  409120.0  460189.00   \n",
       "5    ilocos region        ilocos norte  1990   5.09  409120.0  460189.00   \n",
       "6    ilocos region          ilocos sur  1990   5.10  409120.0  460189.00   \n",
       "7    ilocos region            la union  1990   5.22  409120.0  460189.00   \n",
       "..             ...                 ...   ...    ...       ...        ...   \n",
       "703            NaN                 NaN  1985    NaN  206405.0  268400.70   \n",
       "704            NaN                 NaN  1970    NaN  334981.0  397517.03   \n",
       "705            NaN                 NaN  1975    NaN  426031.0  491813.12   \n",
       "706            NaN                 NaN  1980    NaN  494994.0  573082.16   \n",
       "707            NaN                 NaN  1985    NaN  586380.0  669687.96   \n",
       "\n",
       "     PRODUCTION  SURPLUS/(DEFICIT)  POPULATION (number of persons)  \n",
       "3     554390.00           94201.00                       3558247.0  \n",
       "4     554390.00           94201.00                       3558247.0  \n",
       "5     554390.00           94201.00                       3558247.0  \n",
       "6     554390.00           94201.00                       3558247.0  \n",
       "7     554390.00           94201.00                       3558247.0  \n",
       "..          ...                ...                             ...  \n",
       "703   684195.18          415794.48                       2124261.0  \n",
       "704   641204.55          243687.52                       3635532.0  \n",
       "705   666768.75          174955.63                       4221846.0  \n",
       "706   844041.25          270959.09                       4826671.0  \n",
       "707   930727.02          261039.06                       5487835.0  \n",
       "\n",
       "[621 rows x 9 columns]"
      ]
     },
     "execution_count": 2,
     "metadata": {},
     "output_type": "execute_result"
    }
   ],
   "source": [
    "# Read CSV data\n",
    "raw_price = pd.read_csv(\"rice_data.csv\")#df\n",
    "raw_supply = pd.read_csv(\"supp_dem.csv\")#df2\n",
    "\n",
    "# Pivot years to column\n",
    "price_data = raw_price.melt(id_vars=[\"REGION\", \"PROVINCE\"], \n",
    "        var_name=\"YEAR\", \n",
    "        value_name=\"price\")\n",
    "\n",
    "# Convert data types\n",
    "price_data['YEAR'] = price_data['YEAR'].astype(int)\n",
    "raw_supply.astype(str)\n",
    "\n",
    "# Lower capital letters\n",
    "raw_supply = raw_supply.applymap(lambda s:s.lower() if type(s) == str else s)\n",
    "price_data = price_data.applymap(lambda s:s.lower() if type(s) == str else s)\n",
    "\n",
    "# Merge price and supply data\n",
    "rice_data = price_data.merge(raw_supply, how='outer', left_on=['REGION', 'YEAR'], right_on=['Region', 'YEAR'])\n",
    "\n",
    "# Filter data ( we don't want to use NCR )\n",
    "rice_data = rice_data[rice_data.REGION != 'ncr']\n",
    "\n",
    "# Drop extra column\n",
    "rice_data.drop('Region',axis=1)"
   ]
  },
  {
   "cell_type": "code",
   "execution_count": 8,
   "metadata": {
    "collapsed": true
   },
   "outputs": [
    {
     "data": {
      "text/html": [
       "<div>\n",
       "<style scoped>\n",
       "    .dataframe tbody tr th:only-of-type {\n",
       "        vertical-align: middle;\n",
       "    }\n",
       "\n",
       "    .dataframe tbody tr th {\n",
       "        vertical-align: top;\n",
       "    }\n",
       "\n",
       "    .dataframe thead th {\n",
       "        text-align: right;\n",
       "    }\n",
       "</style>\n",
       "<table border=\"1\" class=\"dataframe\">\n",
       "  <thead>\n",
       "    <tr style=\"text-align: right;\">\n",
       "      <th></th>\n",
       "      <th>Date</th>\n",
       "      <th>Location</th>\n",
       "      <th>FP_Palay_Low</th>\n",
       "      <th>FP_Palay_High</th>\n",
       "      <th>FP_Palay_Prevailing</th>\n",
       "    </tr>\n",
       "  </thead>\n",
       "  <tbody>\n",
       "    <tr>\n",
       "      <th>0</th>\n",
       "      <td>31-Jan-18</td>\n",
       "      <td>III.  CENTRAL LUZON</td>\n",
       "      <td>11.60</td>\n",
       "      <td>20.57</td>\n",
       "      <td>NaN</td>\n",
       "    </tr>\n",
       "    <tr>\n",
       "      <th>1</th>\n",
       "      <td>7-Feb-18</td>\n",
       "      <td>III.  CENTRAL LUZON</td>\n",
       "      <td>11.75</td>\n",
       "      <td>21.07</td>\n",
       "      <td>NaN</td>\n",
       "    </tr>\n",
       "    <tr>\n",
       "      <th>2</th>\n",
       "      <td>14-Feb-18</td>\n",
       "      <td>III.  CENTRAL LUZON</td>\n",
       "      <td>11.75</td>\n",
       "      <td>20.98</td>\n",
       "      <td>NaN</td>\n",
       "    </tr>\n",
       "    <tr>\n",
       "      <th>3</th>\n",
       "      <td>21-Feb-18</td>\n",
       "      <td>III.  CENTRAL LUZON</td>\n",
       "      <td>11.75</td>\n",
       "      <td>20.79</td>\n",
       "      <td>NaN</td>\n",
       "    </tr>\n",
       "    <tr>\n",
       "      <th>4</th>\n",
       "      <td>28-Feb-18</td>\n",
       "      <td>III.  CENTRAL LUZON</td>\n",
       "      <td>11.75</td>\n",
       "      <td>20.81</td>\n",
       "      <td>NaN</td>\n",
       "    </tr>\n",
       "    <tr>\n",
       "      <th>5</th>\n",
       "      <td>7-Mar-18</td>\n",
       "      <td>III.  CENTRAL LUZON</td>\n",
       "      <td>11.85</td>\n",
       "      <td>21.14</td>\n",
       "      <td>NaN</td>\n",
       "    </tr>\n",
       "    <tr>\n",
       "      <th>6</th>\n",
       "      <td>14-Mar-18</td>\n",
       "      <td>III.  CENTRAL LUZON</td>\n",
       "      <td>12.00</td>\n",
       "      <td>21.07</td>\n",
       "      <td>NaN</td>\n",
       "    </tr>\n",
       "    <tr>\n",
       "      <th>7</th>\n",
       "      <td>21-Mar-18</td>\n",
       "      <td>III.  CENTRAL LUZON</td>\n",
       "      <td>12.00</td>\n",
       "      <td>21.21</td>\n",
       "      <td>NaN</td>\n",
       "    </tr>\n",
       "    <tr>\n",
       "      <th>8</th>\n",
       "      <td>28-Mar-18</td>\n",
       "      <td>III.  CENTRAL LUZON</td>\n",
       "      <td>12.00</td>\n",
       "      <td>21.39</td>\n",
       "      <td>NaN</td>\n",
       "    </tr>\n",
       "    <tr>\n",
       "      <th>9</th>\n",
       "      <td>4-Apr-18</td>\n",
       "      <td>III.  CENTRAL LUZON</td>\n",
       "      <td>12.00</td>\n",
       "      <td>21.26</td>\n",
       "      <td>NaN</td>\n",
       "    </tr>\n",
       "    <tr>\n",
       "      <th>10</th>\n",
       "      <td>11-Apr-18</td>\n",
       "      <td>III.  CENTRAL LUZON</td>\n",
       "      <td>12.25</td>\n",
       "      <td>21.71</td>\n",
       "      <td>NaN</td>\n",
       "    </tr>\n",
       "    <tr>\n",
       "      <th>11</th>\n",
       "      <td>25-Apr-18</td>\n",
       "      <td>III.  CENTRAL LUZON</td>\n",
       "      <td>12.25</td>\n",
       "      <td>21.83</td>\n",
       "      <td>NaN</td>\n",
       "    </tr>\n",
       "    <tr>\n",
       "      <th>12</th>\n",
       "      <td>2-May-18</td>\n",
       "      <td>III.  CENTRAL LUZON</td>\n",
       "      <td>12.50</td>\n",
       "      <td>22.16</td>\n",
       "      <td>NaN</td>\n",
       "    </tr>\n",
       "    <tr>\n",
       "      <th>13</th>\n",
       "      <td>9-May-18</td>\n",
       "      <td>III.  CENTRAL LUZON</td>\n",
       "      <td>12.75</td>\n",
       "      <td>21.80</td>\n",
       "      <td>NaN</td>\n",
       "    </tr>\n",
       "    <tr>\n",
       "      <th>14</th>\n",
       "      <td>16-May-18</td>\n",
       "      <td>III.  CENTRAL LUZON</td>\n",
       "      <td>12.75</td>\n",
       "      <td>22.29</td>\n",
       "      <td>NaN</td>\n",
       "    </tr>\n",
       "    <tr>\n",
       "      <th>15</th>\n",
       "      <td>23-May-18</td>\n",
       "      <td>III.  CENTRAL LUZON</td>\n",
       "      <td>13.00</td>\n",
       "      <td>22.29</td>\n",
       "      <td>NaN</td>\n",
       "    </tr>\n",
       "    <tr>\n",
       "      <th>16</th>\n",
       "      <td>30-May-18</td>\n",
       "      <td>III.  CENTRAL LUZON</td>\n",
       "      <td>13.25</td>\n",
       "      <td>22.29</td>\n",
       "      <td>NaN</td>\n",
       "    </tr>\n",
       "    <tr>\n",
       "      <th>17</th>\n",
       "      <td>6-Jun-18</td>\n",
       "      <td>III.  CENTRAL LUZON</td>\n",
       "      <td>13.50</td>\n",
       "      <td>22.54</td>\n",
       "      <td>NaN</td>\n",
       "    </tr>\n",
       "    <tr>\n",
       "      <th>18</th>\n",
       "      <td>13-Jun-18</td>\n",
       "      <td>III.  CENTRAL LUZON</td>\n",
       "      <td>13.75</td>\n",
       "      <td>22.47</td>\n",
       "      <td>NaN</td>\n",
       "    </tr>\n",
       "    <tr>\n",
       "      <th>19</th>\n",
       "      <td>20-Jun-18</td>\n",
       "      <td>III.  CENTRAL LUZON</td>\n",
       "      <td>14.00</td>\n",
       "      <td>22.43</td>\n",
       "      <td>NaN</td>\n",
       "    </tr>\n",
       "  </tbody>\n",
       "</table>\n",
       "</div>"
      ],
      "text/plain": [
       "         Date             Location  FP_Palay_Low  FP_Palay_High  \\\n",
       "0   31-Jan-18  III.  CENTRAL LUZON         11.60          20.57   \n",
       "1    7-Feb-18  III.  CENTRAL LUZON         11.75          21.07   \n",
       "2   14-Feb-18  III.  CENTRAL LUZON         11.75          20.98   \n",
       "3   21-Feb-18  III.  CENTRAL LUZON         11.75          20.79   \n",
       "4   28-Feb-18  III.  CENTRAL LUZON         11.75          20.81   \n",
       "5    7-Mar-18  III.  CENTRAL LUZON         11.85          21.14   \n",
       "6   14-Mar-18  III.  CENTRAL LUZON         12.00          21.07   \n",
       "7   21-Mar-18  III.  CENTRAL LUZON         12.00          21.21   \n",
       "8   28-Mar-18  III.  CENTRAL LUZON         12.00          21.39   \n",
       "9    4-Apr-18  III.  CENTRAL LUZON         12.00          21.26   \n",
       "10  11-Apr-18  III.  CENTRAL LUZON         12.25          21.71   \n",
       "11  25-Apr-18  III.  CENTRAL LUZON         12.25          21.83   \n",
       "12   2-May-18  III.  CENTRAL LUZON         12.50          22.16   \n",
       "13   9-May-18  III.  CENTRAL LUZON         12.75          21.80   \n",
       "14  16-May-18  III.  CENTRAL LUZON         12.75          22.29   \n",
       "15  23-May-18  III.  CENTRAL LUZON         13.00          22.29   \n",
       "16  30-May-18  III.  CENTRAL LUZON         13.25          22.29   \n",
       "17   6-Jun-18  III.  CENTRAL LUZON         13.50          22.54   \n",
       "18  13-Jun-18  III.  CENTRAL LUZON         13.75          22.47   \n",
       "19  20-Jun-18  III.  CENTRAL LUZON         14.00          22.43   \n",
       "\n",
       "    FP_Palay_Prevailing  \n",
       "0                   NaN  \n",
       "1                   NaN  \n",
       "2                   NaN  \n",
       "3                   NaN  \n",
       "4                   NaN  \n",
       "5                   NaN  \n",
       "6                   NaN  \n",
       "7                   NaN  \n",
       "8                   NaN  \n",
       "9                   NaN  \n",
       "10                  NaN  \n",
       "11                  NaN  \n",
       "12                  NaN  \n",
       "13                  NaN  \n",
       "14                  NaN  \n",
       "15                  NaN  \n",
       "16                  NaN  \n",
       "17                  NaN  \n",
       "18                  NaN  \n",
       "19                  NaN  "
      ]
     },
     "execution_count": 8,
     "metadata": {},
     "output_type": "execute_result"
    }
   ],
   "source": [
    "rice_data = pd.read_csv(\"farm_price_cl.csv\")\n",
    "rice_data.head(20)"
   ]
  },
  {
   "cell_type": "code",
   "execution_count": 16,
   "metadata": {
    "collapsed": true
   },
   "outputs": [
    {
     "data": {
      "text/html": [
       "<div>\n",
       "<style scoped>\n",
       "    .dataframe tbody tr th:only-of-type {\n",
       "        vertical-align: middle;\n",
       "    }\n",
       "\n",
       "    .dataframe tbody tr th {\n",
       "        vertical-align: top;\n",
       "    }\n",
       "\n",
       "    .dataframe thead th {\n",
       "        text-align: right;\n",
       "    }\n",
       "</style>\n",
       "<table border=\"1\" class=\"dataframe\">\n",
       "  <thead>\n",
       "    <tr style=\"text-align: right;\">\n",
       "      <th></th>\n",
       "      <th>Date</th>\n",
       "      <th>Location</th>\n",
       "      <th>FP_Palay_Low</th>\n",
       "      <th>FP_Palay_High</th>\n",
       "      <th>FP_Palay_Prevailing</th>\n",
       "      <th>ave</th>\n",
       "    </tr>\n",
       "  </thead>\n",
       "  <tbody>\n",
       "    <tr>\n",
       "      <th>0</th>\n",
       "      <td>31-Jan-18</td>\n",
       "      <td>III.  CENTRAL LUZON</td>\n",
       "      <td>11.60</td>\n",
       "      <td>20.57</td>\n",
       "      <td>NaN</td>\n",
       "      <td>16.085</td>\n",
       "    </tr>\n",
       "    <tr>\n",
       "      <th>1</th>\n",
       "      <td>7-Feb-18</td>\n",
       "      <td>III.  CENTRAL LUZON</td>\n",
       "      <td>11.75</td>\n",
       "      <td>21.07</td>\n",
       "      <td>NaN</td>\n",
       "      <td>16.410</td>\n",
       "    </tr>\n",
       "    <tr>\n",
       "      <th>2</th>\n",
       "      <td>14-Feb-18</td>\n",
       "      <td>III.  CENTRAL LUZON</td>\n",
       "      <td>11.75</td>\n",
       "      <td>20.98</td>\n",
       "      <td>NaN</td>\n",
       "      <td>16.365</td>\n",
       "    </tr>\n",
       "    <tr>\n",
       "      <th>3</th>\n",
       "      <td>21-Feb-18</td>\n",
       "      <td>III.  CENTRAL LUZON</td>\n",
       "      <td>11.75</td>\n",
       "      <td>20.79</td>\n",
       "      <td>NaN</td>\n",
       "      <td>16.270</td>\n",
       "    </tr>\n",
       "    <tr>\n",
       "      <th>4</th>\n",
       "      <td>28-Feb-18</td>\n",
       "      <td>III.  CENTRAL LUZON</td>\n",
       "      <td>11.75</td>\n",
       "      <td>20.81</td>\n",
       "      <td>NaN</td>\n",
       "      <td>16.280</td>\n",
       "    </tr>\n",
       "  </tbody>\n",
       "</table>\n",
       "</div>"
      ],
      "text/plain": [
       "        Date             Location  FP_Palay_Low  FP_Palay_High  \\\n",
       "0  31-Jan-18  III.  CENTRAL LUZON         11.60          20.57   \n",
       "1   7-Feb-18  III.  CENTRAL LUZON         11.75          21.07   \n",
       "2  14-Feb-18  III.  CENTRAL LUZON         11.75          20.98   \n",
       "3  21-Feb-18  III.  CENTRAL LUZON         11.75          20.79   \n",
       "4  28-Feb-18  III.  CENTRAL LUZON         11.75          20.81   \n",
       "\n",
       "   FP_Palay_Prevailing     ave  \n",
       "0                  NaN  16.085  \n",
       "1                  NaN  16.410  \n",
       "2                  NaN  16.365  \n",
       "3                  NaN  16.270  \n",
       "4                  NaN  16.280  "
      ]
     },
     "execution_count": 16,
     "metadata": {},
     "output_type": "execute_result"
    }
   ],
   "source": [
    "rice_data['ave'] = (rice_data['FP_Palay_Low'] + rice_data['FP_Palay_High']) / 2\n",
    "rice_data.head()"
   ]
  },
  {
   "cell_type": "code",
   "execution_count": 3,
   "metadata": {
    "collapsed": true
   },
   "outputs": [
    {
     "ename": "KeyError",
     "evalue": "'Date'",
     "output_type": "error",
     "traceback": [
      "\u001b[1;31m---------------------------------------------------------------------------\u001b[0m",
      "\u001b[1;31mKeyError\u001b[0m                                  Traceback (most recent call last)",
      "\u001b[1;32m~\\anaconda3\\lib\\site-packages\\pandas\\core\\indexes\\base.py\u001b[0m in \u001b[0;36mget_loc\u001b[1;34m(self, key, method, tolerance)\u001b[0m\n\u001b[0;32m   2645\u001b[0m             \u001b[1;32mtry\u001b[0m\u001b[1;33m:\u001b[0m\u001b[1;33m\u001b[0m\u001b[1;33m\u001b[0m\u001b[0m\n\u001b[1;32m-> 2646\u001b[1;33m                 \u001b[1;32mreturn\u001b[0m \u001b[0mself\u001b[0m\u001b[1;33m.\u001b[0m\u001b[0m_engine\u001b[0m\u001b[1;33m.\u001b[0m\u001b[0mget_loc\u001b[0m\u001b[1;33m(\u001b[0m\u001b[0mkey\u001b[0m\u001b[1;33m)\u001b[0m\u001b[1;33m\u001b[0m\u001b[1;33m\u001b[0m\u001b[0m\n\u001b[0m\u001b[0;32m   2647\u001b[0m             \u001b[1;32mexcept\u001b[0m \u001b[0mKeyError\u001b[0m\u001b[1;33m:\u001b[0m\u001b[1;33m\u001b[0m\u001b[1;33m\u001b[0m\u001b[0m\n",
      "\u001b[1;32mpandas\\_libs\\index.pyx\u001b[0m in \u001b[0;36mpandas._libs.index.IndexEngine.get_loc\u001b[1;34m()\u001b[0m\n",
      "\u001b[1;32mpandas\\_libs\\index.pyx\u001b[0m in \u001b[0;36mpandas._libs.index.IndexEngine.get_loc\u001b[1;34m()\u001b[0m\n",
      "\u001b[1;32mpandas\\_libs\\hashtable_class_helper.pxi\u001b[0m in \u001b[0;36mpandas._libs.hashtable.PyObjectHashTable.get_item\u001b[1;34m()\u001b[0m\n",
      "\u001b[1;32mpandas\\_libs\\hashtable_class_helper.pxi\u001b[0m in \u001b[0;36mpandas._libs.hashtable.PyObjectHashTable.get_item\u001b[1;34m()\u001b[0m\n",
      "\u001b[1;31mKeyError\u001b[0m: 'Date'",
      "\nDuring handling of the above exception, another exception occurred:\n",
      "\u001b[1;31mKeyError\u001b[0m                                  Traceback (most recent call last)",
      "\u001b[1;32m<ipython-input-3-937b9ebdea0c>\u001b[0m in \u001b[0;36m<module>\u001b[1;34m\u001b[0m\n\u001b[0;32m      1\u001b[0m \u001b[0mfig\u001b[0m \u001b[1;33m=\u001b[0m \u001b[0mplt\u001b[0m\u001b[1;33m.\u001b[0m\u001b[0mfigure\u001b[0m\u001b[1;33m(\u001b[0m\u001b[0mfigsize\u001b[0m \u001b[1;33m=\u001b[0m \u001b[1;33m(\u001b[0m\u001b[1;36m3\u001b[0m\u001b[1;33m,\u001b[0m\u001b[1;36m2\u001b[0m\u001b[1;33m)\u001b[0m\u001b[1;33m)\u001b[0m\u001b[1;33m\u001b[0m\u001b[1;33m\u001b[0m\u001b[0m\n\u001b[0;32m      2\u001b[0m \u001b[1;31m# Check by plot\u001b[0m\u001b[1;33m\u001b[0m\u001b[1;33m\u001b[0m\u001b[1;33m\u001b[0m\u001b[0m\n\u001b[1;32m----> 3\u001b[1;33m \u001b[0mrice_data\u001b[0m\u001b[1;33m.\u001b[0m\u001b[0mplot\u001b[0m\u001b[1;33m(\u001b[0m\u001b[0mkind\u001b[0m\u001b[1;33m=\u001b[0m\u001b[1;34m'line'\u001b[0m\u001b[1;33m,\u001b[0m\u001b[0mx\u001b[0m\u001b[1;33m=\u001b[0m\u001b[1;34m'Date'\u001b[0m\u001b[1;33m,\u001b[0m\u001b[0my\u001b[0m\u001b[1;33m=\u001b[0m\u001b[1;34m'ave'\u001b[0m\u001b[1;33m,\u001b[0m \u001b[0mfigsize\u001b[0m\u001b[1;33m=\u001b[0m\u001b[1;33m(\u001b[0m\u001b[1;36m20\u001b[0m\u001b[1;33m,\u001b[0m\u001b[1;36m10\u001b[0m\u001b[1;33m)\u001b[0m\u001b[1;33m)\u001b[0m\u001b[1;33m\u001b[0m\u001b[1;33m\u001b[0m\u001b[0m\n\u001b[0m\u001b[0;32m      4\u001b[0m \u001b[1;33m\u001b[0m\u001b[0m\n",
      "\u001b[1;32m~\\anaconda3\\lib\\site-packages\\pandas\\plotting\\_core.py\u001b[0m in \u001b[0;36m__call__\u001b[1;34m(self, *args, **kwargs)\u001b[0m\n\u001b[0;32m    810\u001b[0m                 \u001b[1;32mif\u001b[0m \u001b[0mis_integer\u001b[0m\u001b[1;33m(\u001b[0m\u001b[0mx\u001b[0m\u001b[1;33m)\u001b[0m \u001b[1;32mand\u001b[0m \u001b[1;32mnot\u001b[0m \u001b[0mdata\u001b[0m\u001b[1;33m.\u001b[0m\u001b[0mcolumns\u001b[0m\u001b[1;33m.\u001b[0m\u001b[0mholds_integer\u001b[0m\u001b[1;33m(\u001b[0m\u001b[1;33m)\u001b[0m\u001b[1;33m:\u001b[0m\u001b[1;33m\u001b[0m\u001b[1;33m\u001b[0m\u001b[0m\n\u001b[0;32m    811\u001b[0m                     \u001b[0mx\u001b[0m \u001b[1;33m=\u001b[0m \u001b[0mdata_cols\u001b[0m\u001b[1;33m[\u001b[0m\u001b[0mx\u001b[0m\u001b[1;33m]\u001b[0m\u001b[1;33m\u001b[0m\u001b[1;33m\u001b[0m\u001b[0m\n\u001b[1;32m--> 812\u001b[1;33m                 \u001b[1;32melif\u001b[0m \u001b[1;32mnot\u001b[0m \u001b[0misinstance\u001b[0m\u001b[1;33m(\u001b[0m\u001b[0mdata\u001b[0m\u001b[1;33m[\u001b[0m\u001b[0mx\u001b[0m\u001b[1;33m]\u001b[0m\u001b[1;33m,\u001b[0m \u001b[0mABCSeries\u001b[0m\u001b[1;33m)\u001b[0m\u001b[1;33m:\u001b[0m\u001b[1;33m\u001b[0m\u001b[1;33m\u001b[0m\u001b[0m\n\u001b[0m\u001b[0;32m    813\u001b[0m                     \u001b[1;32mraise\u001b[0m \u001b[0mValueError\u001b[0m\u001b[1;33m(\u001b[0m\u001b[1;34m\"x must be a label or position\"\u001b[0m\u001b[1;33m)\u001b[0m\u001b[1;33m\u001b[0m\u001b[1;33m\u001b[0m\u001b[0m\n\u001b[0;32m    814\u001b[0m                 \u001b[0mdata\u001b[0m \u001b[1;33m=\u001b[0m \u001b[0mdata\u001b[0m\u001b[1;33m.\u001b[0m\u001b[0mset_index\u001b[0m\u001b[1;33m(\u001b[0m\u001b[0mx\u001b[0m\u001b[1;33m)\u001b[0m\u001b[1;33m\u001b[0m\u001b[1;33m\u001b[0m\u001b[0m\n",
      "\u001b[1;32m~\\anaconda3\\lib\\site-packages\\pandas\\core\\frame.py\u001b[0m in \u001b[0;36m__getitem__\u001b[1;34m(self, key)\u001b[0m\n\u001b[0;32m   2798\u001b[0m             \u001b[1;32mif\u001b[0m \u001b[0mself\u001b[0m\u001b[1;33m.\u001b[0m\u001b[0mcolumns\u001b[0m\u001b[1;33m.\u001b[0m\u001b[0mnlevels\u001b[0m \u001b[1;33m>\u001b[0m \u001b[1;36m1\u001b[0m\u001b[1;33m:\u001b[0m\u001b[1;33m\u001b[0m\u001b[1;33m\u001b[0m\u001b[0m\n\u001b[0;32m   2799\u001b[0m                 \u001b[1;32mreturn\u001b[0m \u001b[0mself\u001b[0m\u001b[1;33m.\u001b[0m\u001b[0m_getitem_multilevel\u001b[0m\u001b[1;33m(\u001b[0m\u001b[0mkey\u001b[0m\u001b[1;33m)\u001b[0m\u001b[1;33m\u001b[0m\u001b[1;33m\u001b[0m\u001b[0m\n\u001b[1;32m-> 2800\u001b[1;33m             \u001b[0mindexer\u001b[0m \u001b[1;33m=\u001b[0m \u001b[0mself\u001b[0m\u001b[1;33m.\u001b[0m\u001b[0mcolumns\u001b[0m\u001b[1;33m.\u001b[0m\u001b[0mget_loc\u001b[0m\u001b[1;33m(\u001b[0m\u001b[0mkey\u001b[0m\u001b[1;33m)\u001b[0m\u001b[1;33m\u001b[0m\u001b[1;33m\u001b[0m\u001b[0m\n\u001b[0m\u001b[0;32m   2801\u001b[0m             \u001b[1;32mif\u001b[0m \u001b[0mis_integer\u001b[0m\u001b[1;33m(\u001b[0m\u001b[0mindexer\u001b[0m\u001b[1;33m)\u001b[0m\u001b[1;33m:\u001b[0m\u001b[1;33m\u001b[0m\u001b[1;33m\u001b[0m\u001b[0m\n\u001b[0;32m   2802\u001b[0m                 \u001b[0mindexer\u001b[0m \u001b[1;33m=\u001b[0m \u001b[1;33m[\u001b[0m\u001b[0mindexer\u001b[0m\u001b[1;33m]\u001b[0m\u001b[1;33m\u001b[0m\u001b[1;33m\u001b[0m\u001b[0m\n",
      "\u001b[1;32m~\\anaconda3\\lib\\site-packages\\pandas\\core\\indexes\\base.py\u001b[0m in \u001b[0;36mget_loc\u001b[1;34m(self, key, method, tolerance)\u001b[0m\n\u001b[0;32m   2646\u001b[0m                 \u001b[1;32mreturn\u001b[0m \u001b[0mself\u001b[0m\u001b[1;33m.\u001b[0m\u001b[0m_engine\u001b[0m\u001b[1;33m.\u001b[0m\u001b[0mget_loc\u001b[0m\u001b[1;33m(\u001b[0m\u001b[0mkey\u001b[0m\u001b[1;33m)\u001b[0m\u001b[1;33m\u001b[0m\u001b[1;33m\u001b[0m\u001b[0m\n\u001b[0;32m   2647\u001b[0m             \u001b[1;32mexcept\u001b[0m \u001b[0mKeyError\u001b[0m\u001b[1;33m:\u001b[0m\u001b[1;33m\u001b[0m\u001b[1;33m\u001b[0m\u001b[0m\n\u001b[1;32m-> 2648\u001b[1;33m                 \u001b[1;32mreturn\u001b[0m \u001b[0mself\u001b[0m\u001b[1;33m.\u001b[0m\u001b[0m_engine\u001b[0m\u001b[1;33m.\u001b[0m\u001b[0mget_loc\u001b[0m\u001b[1;33m(\u001b[0m\u001b[0mself\u001b[0m\u001b[1;33m.\u001b[0m\u001b[0m_maybe_cast_indexer\u001b[0m\u001b[1;33m(\u001b[0m\u001b[0mkey\u001b[0m\u001b[1;33m)\u001b[0m\u001b[1;33m)\u001b[0m\u001b[1;33m\u001b[0m\u001b[1;33m\u001b[0m\u001b[0m\n\u001b[0m\u001b[0;32m   2649\u001b[0m         \u001b[0mindexer\u001b[0m \u001b[1;33m=\u001b[0m \u001b[0mself\u001b[0m\u001b[1;33m.\u001b[0m\u001b[0mget_indexer\u001b[0m\u001b[1;33m(\u001b[0m\u001b[1;33m[\u001b[0m\u001b[0mkey\u001b[0m\u001b[1;33m]\u001b[0m\u001b[1;33m,\u001b[0m \u001b[0mmethod\u001b[0m\u001b[1;33m=\u001b[0m\u001b[0mmethod\u001b[0m\u001b[1;33m,\u001b[0m \u001b[0mtolerance\u001b[0m\u001b[1;33m=\u001b[0m\u001b[0mtolerance\u001b[0m\u001b[1;33m)\u001b[0m\u001b[1;33m\u001b[0m\u001b[1;33m\u001b[0m\u001b[0m\n\u001b[0;32m   2650\u001b[0m         \u001b[1;32mif\u001b[0m \u001b[0mindexer\u001b[0m\u001b[1;33m.\u001b[0m\u001b[0mndim\u001b[0m \u001b[1;33m>\u001b[0m \u001b[1;36m1\u001b[0m \u001b[1;32mor\u001b[0m \u001b[0mindexer\u001b[0m\u001b[1;33m.\u001b[0m\u001b[0msize\u001b[0m \u001b[1;33m>\u001b[0m \u001b[1;36m1\u001b[0m\u001b[1;33m:\u001b[0m\u001b[1;33m\u001b[0m\u001b[1;33m\u001b[0m\u001b[0m\n",
      "\u001b[1;32mpandas\\_libs\\index.pyx\u001b[0m in \u001b[0;36mpandas._libs.index.IndexEngine.get_loc\u001b[1;34m()\u001b[0m\n",
      "\u001b[1;32mpandas\\_libs\\index.pyx\u001b[0m in \u001b[0;36mpandas._libs.index.IndexEngine.get_loc\u001b[1;34m()\u001b[0m\n",
      "\u001b[1;32mpandas\\_libs\\hashtable_class_helper.pxi\u001b[0m in \u001b[0;36mpandas._libs.hashtable.PyObjectHashTable.get_item\u001b[1;34m()\u001b[0m\n",
      "\u001b[1;32mpandas\\_libs\\hashtable_class_helper.pxi\u001b[0m in \u001b[0;36mpandas._libs.hashtable.PyObjectHashTable.get_item\u001b[1;34m()\u001b[0m\n",
      "\u001b[1;31mKeyError\u001b[0m: 'Date'"
     ]
    },
    {
     "data": {
      "text/plain": [
       "<Figure size 216x144 with 0 Axes>"
      ]
     },
     "metadata": {},
     "output_type": "display_data"
    }
   ],
   "source": [
    "fig = plt.figure(figsize = (3,2))\n",
    "# Check by plot\n",
    "rice_data.plot(kind='line',x='Date',y='ave', figsize=(20,10))\n",
    "\n"
   ]
  },
  {
   "cell_type": "code",
   "execution_count": 15,
   "metadata": {},
   "outputs": [
    {
     "data": {
      "text/plain": [
       "<matplotlib.axes._subplots.AxesSubplot at 0x2841885a9c8>"
      ]
     },
     "execution_count": 15,
     "metadata": {},
     "output_type": "execute_result"
    },
    {
     "data": {
      "text/plain": [
       "<Figure size 216x144 with 0 Axes>"
      ]
     },
     "metadata": {},
     "output_type": "display_data"
    },
    {
     "data": {
      "image/png": "[encoded data removed]",
      "text/plain": [
       "<Figure size 1440x720 with 1 Axes>"
      ]
     },
     "metadata": {
      "needs_background": "light"
     },
     "output_type": "display_data"
    }
   ],
   "source": [
    "# Print to a csv file to check\n",
    "rice_data.to_csv('see.csv')"
   ]
  },
  {
   "cell_type": "code",
   "execution_count": 4,
   "metadata": {},
   "outputs": [],
   "source": [
    "# Filter by region\n",
    "ilocos_region = rice_data[rice_data.REGION == 'ilocos region']"
   ]
  },
  {
   "cell_type": "code",
   "execution_count": 5,
   "metadata": {},
   "outputs": [
    {
     "data": {
      "text/plain": [
       "<function matplotlib.pyplot.tight_layout(pad=1.08, h_pad=None, w_pad=None, rect=None)>"
      ]
     },
     "execution_count": 5,
     "metadata": {},
     "output_type": "execute_result"
    },
    {
     "data": {
      "image/png": "[encoded data removed]",
      "text/plain": [
       "<Figure size 1152x432 with 3 Axes>"
      ]
     },
     "metadata": {
      "needs_background": "light"
     },
     "output_type": "display_data"
    }
   ],
   "source": [
    "# Price, production, food use plot\n",
    "fig, axes = plt.subplots(nrows=1,ncols = 3,figsize =(16,6))\n",
    "ilocos_region.plot(kind='scatter',x='YEAR',y='price',ax=axes[0])\n",
    "ilocos_region.plot(kind='scatter',x='YEAR',y='PRODUCTION',ax=axes[1])\n",
    "ilocos_region.plot(kind='scatter',x='YEAR',y='FOOD USE',ax=axes[2])\n",
    "plt.tight_layout"
   ]
  },
  {
   "cell_type": "markdown",
   "metadata": {},
   "source": [
    "# Linear Regression Model"
   ]
  },
  {
   "cell_type": "code",
   "execution_count": 6,
   "metadata": {},
   "outputs": [],
   "source": [
    "# Start of Modeling\n",
    "# convert string to integer\n",
    "rice_data['REGION'] = rice_data['REGION'].replace(['ilocos region','cagayan valley','central luzon'],['1','2','3'])\n",
    "\n",
    "# Fill blank values with 0\n",
    "rice_data = rice_data.fillna(0)\n",
    "\n",
    "# Name x and y variables\n",
    "rice_data = rice_data[[\"REGION\", \"YEAR\", \"price\",\"TOTAL USE\",\"PRODUCTION\",]]\n",
    "\n",
    "predict = \"price\"\n",
    "\n",
    "# Convert rice data to numpy array\n",
    "X = np.array(rice_data.drop([predict], 1))\n",
    "Y = np.array(rice_data[predict])\n",
    "\n",
    "# Split data into train and test\n",
    "x_train, x_test, y_train, y_test = sklearn.model_selection.train_test_split(X, Y, test_size=0.1)\n",
    "\n"
   ]
  },
  {
   "cell_type": "code",
   "execution_count": 7,
   "metadata": {},
   "outputs": [
    {
     "data": {
      "text/plain": [
       "LinearRegression(copy_X=True, fit_intercept=True, n_jobs=None, normalize=False)"
      ]
     },
     "execution_count": 7,
     "metadata": {},
     "output_type": "execute_result"
    }
   ],
   "source": [
    "# Linear Regression\n",
    "linear = linear_model.LinearRegression()\n",
    "\n",
    "# Fit model\n",
    "linear.fit(x_train,y_train)\n"
   ]
  },
  {
   "cell_type": "code",
   "execution_count": 8,
   "metadata": {
    "collapsed": true
   },
   "outputs": [
    {
     "name": "stdout",
     "output_type": "stream",
     "text": [
      "0.8842490095728477\n",
      "==================================\n",
      "Coefficient: \n",
      " [-8.61948066e-02  5.50688524e-01 -8.12961838e-08  2.44798458e-07]\n",
      "Intercept: \n",
      " -1092.036398275942\n",
      "==================================\n",
      "18.30415459645269 ['3' 2016 1486446.24 2172874.03] 17.81\n",
      "16.665242938720212 ['2' 2013 584802.05 1575071.55] 18.02\n",
      "13.303140041739198 ['1' 2007 829743.0 1067495.65] 11.38\n",
      "19.16684745092516 ['1' 2018 0.0 0.0] 20.18\n",
      "15.499851932646152 ['1' 2011 826779.41 1041829.1] 16.54\n",
      "11.060665890536711 ['1' 2003 656911.11 847843.0] 9.37\n",
      "3.8235783772440755 ['2' 1990 299289.0 761996.0] 4.65\n",
      "12.69997737011363 ['3' 2006 1381127.0 1740461.0] 11.64\n",
      "12.737202116078151 ['2' 2006 566666.0 1269940.75] 10.52\n",
      "12.131461593061886 ['3' 2005 1342488.0 1654805.0] 11.16\n",
      "18.301128224382865 ['2' 2016 606632.99 1516225.13] 17.17\n",
      "19.080652644312295 ['2' 2018 0.0 0.0] 19.9\n",
      "17.735912644472137 ['1' 2015 758251.44 1155128.65] 18.24\n",
      "16.115293085292024 ['2' 2012 580111.93 1576531.45] 16.37\n",
      "10.498771660101738 ['1' 2002 634093.0 794490.0] 8.15\n",
      "13.841737211706231 ['3' 2008 1543438.0 1959327.0] 15.19\n",
      "9.414269039954888 ['2' 2000 467911.0 1160339.0] 8.57\n",
      "7.730182197078648 ['2' 1997 391875.0 1004281.2] 8.47\n",
      "7.165102119927724 ['1' 1996 547877.0 645194.0] 9.13\n",
      "16.665242938720212 ['2' 2013 584802.05 1575071.55] 17.17\n",
      "10.43812544667935 ['3' 2002 1108548.5 1408525.0] 9.57\n",
      "3.81686458627928 ['3' 1990 790332.0 1249748.0] 5.1\n",
      "18.994457837699656 ['3' 2018 0.0 0.0] 20.98\n",
      "15.517977593539854 ['2' 2011 604313.76 1394097.9] 15.44\n",
      "18.301128224382865 ['2' 2016 606632.99 1516225.13] 16.57\n",
      "9.881138122316543 ['3' 2001 1056712.5 1365580.0] 8.82\n",
      "4.848945838501777 ['1' 1992 0.0 0.0] 4.78\n",
      "11.628176783819299 ['2' 2004 540482.0 1230002.0] 9.25\n",
      "18.994457837699656 ['3' 2018 0.0 0.0] 21.11\n",
      "9.299978219548848 ['3' 2000 1015653.0 1227469.0] 9.29\n",
      "13.841737211706231 ['3' 2008 1543438.0 1959327.0] 13.59\n",
      "4.762751031888911 ['2' 1992 0.0 0.0] 4.74\n",
      "16.081032464200916 ['3' 2012 1497659.36 2093394.55] 16.85\n",
      "15.438003733323512 ['3' 2011 1450288.8 1700453.95] 17.63\n",
      "9.951002263273494 ['1' 2001 607845.0 797697.8] 8.72\n",
      "5.313439555443665 ['2' 1993 0.0 0.0] 5.66\n",
      "5.864128078998419 ['2' 1994 0.0 0.0] 5.13\n",
      "14.360712021727977 ['1' 2009 799817.0 878614.0] 14.75\n",
      "-7.107547550305526 [0 1970 154671.77 347361.45] 0.0\n",
      "15.499851932646152 ['1' 2011 826779.41 1041829.1] 15.15\n",
      "3.81686458627928 ['3' 1990 790332.0 1249748.0] 5.14\n",
      "10.43812544667935 ['3' 2002 1108548.5 1408525.0] 9.03\n",
      "17.228935104875518 ['2' 2014 604422.59 1634707.21] 20.78\n",
      "17.228935104875518 ['2' 2014 604422.59 1634707.21] 21.73\n",
      "6.601969035740012 ['1' 1995 493308.0 576236.0] 7.46\n",
      "14.90762253804428 ['2' 2010 557215.0 1134719.3] 14.77\n",
      "1.2259909528206663 [0 1985 268400.7 684195.18] 0.0\n",
      "7.729399748901869 ['1' 1997 545174.0 699889.45] 8.24\n",
      "17.26287349741915 ['3' 2014 1573716.44 2447347.5] 21.55\n",
      "18.994457837699656 ['3' 2018 0.0 0.0] 21.04\n",
      "14.944386976729902 ['3' 2010 1418304.0 1922969.75] 15.46\n",
      "9.299978219548848 ['3' 2000 1015653.0 1227469.0] 8.71\n",
      "5.864128078998419 ['2' 1994 0.0 0.0] 5.97\n",
      "18.994457837699656 ['3' 2018 0.0 0.0] 21.81\n",
      "4.762751031888911 ['2' 1992 0.0 0.0] 0.0\n",
      "5.864128078998419 ['2' 1994 0.0 0.0] 6.19\n",
      "5.9503228856112855 ['1' 1994 0.0 0.0] 6.4\n",
      "7.730182197078648 ['2' 1997 391875.0 1004281.2] 0.0\n",
      "6.541450528537098 ['3' 1995 821821.0 1142326.0] 8.33\n",
      "18.30415459645269 ['3' 2016 1486446.24 2172874.03] 17.81\n",
      "18.30415459645269 ['3' 2016 1486446.24 2172874.03] 17.38\n",
      "14.367726275904033 ['3' 2009 1438417.0 1823553.0] 14.52\n",
      "15.438003733323512 ['3' 2011 1450288.8 1700453.95] 17.08\n"
     ]
    }
   ],
   "source": [
    "# score\n",
    "acc = linear.score(x_test,y_test)\n",
    "print(acc)\n",
    "print('==================================')\n",
    "\n",
    "print('Coefficient: \\n', linear.coef_)\n",
    "print('Intercept: \\n', linear.intercept_)\n",
    "print('==================================')\n",
    "# predict test data\n",
    "predictions = linear.predict(x_test)\n",
    "\n",
    "# List predictions\n",
    "for x in range(len(predictions)):\n",
    "    print(predictions[x], x_test[x], y_test[x])"
   ]
  },
  {
   "cell_type": "markdown",
   "metadata": {},
   "source": [
    "# LSTM Model trial"
   ]
  },
  {
   "cell_type": "code",
   "execution_count": null,
   "metadata": {},
   "outputs": [],
   "source": []
  },
  {
   "cell_type": "code",
   "execution_count": 19,
   "metadata": {},
   "outputs": [
    {
     "name": "stdout",
     "output_type": "stream",
     "text": [
      "[[16.085]\n",
      " [16.41 ]\n",
      " [16.365]\n",
      " [16.27 ]\n",
      " [16.28 ]\n",
      " [16.495]\n",
      " [16.535]\n",
      " [16.605]\n",
      " [16.695]\n",
      " [16.63 ]\n",
      " [16.98 ]\n",
      " [17.04 ]\n",
      " [17.33 ]\n",
      " [17.275]\n",
      " [17.52 ]\n",
      " [17.645]\n",
      " [17.77 ]\n",
      " [18.02 ]\n",
      " [18.11 ]\n",
      " [18.215]\n",
      " [18.41 ]\n",
      " [18.34 ]\n",
      " [18.23 ]\n",
      " [18.25 ]\n",
      " [18.385]\n",
      " [18.79 ]\n",
      " [18.715]\n",
      " [18.375]\n",
      " [18.34 ]\n",
      " [19.285]\n",
      " [19.25 ]\n",
      " [19.785]\n",
      " [19.41 ]\n",
      " [18.75 ]\n",
      " [18.18 ]\n",
      " [18.07 ]\n",
      " [17.87 ]\n",
      " [17.91 ]\n",
      " [17.785]\n",
      " [17.785]\n",
      " [17.775]\n",
      " [17.785]\n",
      " [17.82 ]\n",
      " [17.74 ]\n",
      " [17.785]\n",
      " [17.785]\n",
      " [17.625]\n",
      " [17.52 ]\n",
      " [17.895]\n",
      " [17.785]\n",
      " [17.5  ]\n",
      " [17.405]\n",
      " [17.295]\n",
      " [17.395]\n",
      " [16.855]\n",
      " [16.805]\n",
      " [16.68 ]\n",
      " [16.7  ]\n",
      " [16.02 ]\n",
      " [16.055]\n",
      " [15.77 ]\n",
      " [15.78 ]\n",
      " [15.53 ]\n",
      " [15.34 ]\n",
      " [15.27 ]\n",
      " [15.16 ]\n",
      " [14.795]\n",
      " [14.785]\n",
      " [14.875]\n",
      " [14.875]\n",
      " [14.8  ]\n",
      " [14.71 ]\n",
      " [14.615]\n",
      " [14.745]\n",
      " [14.335]\n",
      " [14.415]\n",
      " [14.415]\n",
      " [14.415]\n",
      " [14.415]\n",
      " [14.1  ]\n",
      " [16.5  ]\n",
      " [15.   ]\n",
      " [15.   ]\n",
      " [14.5  ]\n",
      " [14.5  ]\n",
      " [14.5  ]\n",
      " [14.5  ]\n",
      " [14.5  ]\n",
      " [14.5  ]\n",
      " [14.5  ]\n",
      " [14.5  ]\n",
      " [15.175]\n",
      " [15.175]\n",
      " [15.175]\n",
      " [15.175]\n",
      " [16.   ]\n",
      " [16.   ]\n",
      " [15.   ]\n",
      " [15.   ]\n",
      " [15.5  ]\n",
      " [16.   ]\n",
      " [17.   ]\n",
      " [17.4  ]\n",
      " [17.4  ]\n",
      " [17.4  ]\n",
      " [18.   ]\n",
      " [16.65 ]\n",
      " [16.5  ]\n",
      " [16.5  ]\n",
      " [17.65 ]\n",
      " [18.75 ]\n",
      " [21.5  ]\n",
      " [18.5  ]\n",
      " [18.9  ]\n",
      " [18.4  ]\n",
      " [17.9  ]\n",
      " [17.9  ]\n",
      " [17.9  ]\n",
      " [18.5  ]\n",
      " [19.5  ]\n",
      " [18.   ]\n",
      " [21.25 ]]\n"
     ]
    }
   ],
   "source": [
    "rice_data = rice_data.interpolate(method='nearest')\n",
    "# Create a new dataframe with only the 'close' column\n",
    "data = rice_data.filter(['ave'])\n",
    "#Convert the dataframe to a numpy array\n",
    "dataset = data.values\n",
    "#Get the number ofrows to train the model on\n",
    "training_data_len  = math.ceil(len(dataset) * .8)\n",
    "print(dataset)"
   ]
  },
  {
   "cell_type": "code",
   "execution_count": 20,
   "metadata": {},
   "outputs": [
    {
     "name": "stdout",
     "output_type": "stream",
     "text": [
      "[[0.26824324]\n",
      " [0.31216216]\n",
      " [0.30608108]\n",
      " [0.29324324]\n",
      " [0.29459459]\n",
      " [0.32364865]\n",
      " [0.32905405]\n",
      " [0.33851351]\n",
      " [0.35067568]\n",
      " [0.34189189]\n",
      " [0.38918919]\n",
      " [0.3972973 ]\n",
      " [0.43648649]\n",
      " [0.42905405]\n",
      " [0.46216216]\n",
      " [0.47905405]\n",
      " [0.49594595]\n",
      " [0.52972973]\n",
      " [0.54189189]\n",
      " [0.55608108]\n",
      " [0.58243243]\n",
      " [0.57297297]\n",
      " [0.55810811]\n",
      " [0.56081081]\n",
      " [0.57905405]\n",
      " [0.63378378]\n",
      " [0.62364865]\n",
      " [0.5777027 ]\n",
      " [0.57297297]\n",
      " [0.70067568]\n",
      " [0.69594595]\n",
      " [0.76824324]\n",
      " [0.71756757]\n",
      " [0.62837838]\n",
      " [0.55135135]\n",
      " [0.53648649]\n",
      " [0.50945946]\n",
      " [0.51486486]\n",
      " [0.49797297]\n",
      " [0.49797297]\n",
      " [0.49662162]\n",
      " [0.49797297]\n",
      " [0.5027027 ]\n",
      " [0.49189189]\n",
      " [0.49797297]\n",
      " [0.49797297]\n",
      " [0.47635135]\n",
      " [0.46216216]\n",
      " [0.51283784]\n",
      " [0.49797297]\n",
      " [0.45945946]\n",
      " [0.44662162]\n",
      " [0.43175676]\n",
      " [0.44527027]\n",
      " [0.3722973 ]\n",
      " [0.36554054]\n",
      " [0.34864865]\n",
      " [0.35135135]\n",
      " [0.25945946]\n",
      " [0.26418919]\n",
      " [0.22567568]\n",
      " [0.22702703]\n",
      " [0.19324324]\n",
      " [0.16756757]\n",
      " [0.15810811]\n",
      " [0.14324324]\n",
      " [0.09391892]\n",
      " [0.09256757]\n",
      " [0.10472973]\n",
      " [0.10472973]\n",
      " [0.09459459]\n",
      " [0.08243243]\n",
      " [0.06959459]\n",
      " [0.08716216]\n",
      " [0.03175676]\n",
      " [0.04256757]\n",
      " [0.04256757]\n",
      " [0.04256757]\n",
      " [0.04256757]\n",
      " [0.        ]\n",
      " [0.32432432]\n",
      " [0.12162162]\n",
      " [0.12162162]\n",
      " [0.05405405]\n",
      " [0.05405405]\n",
      " [0.05405405]\n",
      " [0.05405405]\n",
      " [0.05405405]\n",
      " [0.05405405]\n",
      " [0.05405405]\n",
      " [0.05405405]\n",
      " [0.14527027]\n",
      " [0.14527027]\n",
      " [0.14527027]\n",
      " [0.14527027]\n",
      " [0.25675676]\n",
      " [0.25675676]\n",
      " [0.12162162]\n",
      " [0.12162162]\n",
      " [0.18918919]\n",
      " [0.25675676]\n",
      " [0.39189189]\n",
      " [0.44594595]\n",
      " [0.44594595]\n",
      " [0.44594595]\n",
      " [0.52702703]\n",
      " [0.34459459]\n",
      " [0.32432432]\n",
      " [0.32432432]\n",
      " [0.47972973]\n",
      " [0.62837838]\n",
      " [1.        ]\n",
      " [0.59459459]\n",
      " [0.64864865]\n",
      " [0.58108108]\n",
      " [0.51351351]\n",
      " [0.51351351]\n",
      " [0.51351351]\n",
      " [0.59459459]\n",
      " [0.72972973]\n",
      " [0.52702703]\n",
      " [0.96621622]]\n"
     ]
    }
   ],
   "source": [
    "#Scale the data\n",
    "scaler = MinMaxScaler(feature_range=(0,1))\n",
    "scaled_data = scaler.fit_transform(dataset)\n",
    "print(scaled_data)"
   ]
  },
  {
   "cell_type": "code",
   "execution_count": 21,
   "metadata": {},
   "outputs": [
    {
     "name": "stdout",
     "output_type": "stream",
     "text": [
      "[array([0.26824324, 0.31216216, 0.30608108, 0.29324324, 0.29459459,\n",
      "       0.32364865, 0.32905405, 0.33851351, 0.35067568, 0.34189189,\n",
      "       0.38918919, 0.3972973 , 0.43648649, 0.42905405, 0.46216216,\n",
      "       0.47905405, 0.49594595, 0.52972973, 0.54189189, 0.55608108,\n",
      "       0.58243243, 0.57297297, 0.55810811, 0.56081081, 0.57905405,\n",
      "       0.63378378, 0.62364865, 0.5777027 , 0.57297297, 0.70067568,\n",
      "       0.69594595, 0.76824324, 0.71756757, 0.62837838, 0.55135135,\n",
      "       0.53648649, 0.50945946, 0.51486486, 0.49797297, 0.49797297,\n",
      "       0.49662162, 0.49797297, 0.5027027 , 0.49189189, 0.49797297,\n",
      "       0.49797297, 0.47635135, 0.46216216, 0.51283784, 0.49797297,\n",
      "       0.45945946, 0.44662162, 0.43175676, 0.44527027, 0.3722973 ,\n",
      "       0.36554054, 0.34864865, 0.35135135, 0.25945946, 0.26418919])]\n",
      "[array([0.26824324, 0.31216216, 0.30608108, 0.29324324, 0.29459459,\n",
      "       0.32364865, 0.32905405, 0.33851351, 0.35067568, 0.34189189,\n",
      "       0.38918919, 0.3972973 , 0.43648649, 0.42905405, 0.46216216,\n",
      "       0.47905405, 0.49594595, 0.52972973, 0.54189189, 0.55608108,\n",
      "       0.58243243, 0.57297297, 0.55810811, 0.56081081, 0.57905405,\n",
      "       0.63378378, 0.62364865, 0.5777027 , 0.57297297, 0.70067568,\n",
      "       0.69594595, 0.76824324, 0.71756757, 0.62837838, 0.55135135,\n",
      "       0.53648649, 0.50945946, 0.51486486, 0.49797297, 0.49797297,\n",
      "       0.49662162, 0.49797297, 0.5027027 , 0.49189189, 0.49797297,\n",
      "       0.49797297, 0.47635135, 0.46216216, 0.51283784, 0.49797297,\n",
      "       0.45945946, 0.44662162, 0.43175676, 0.44527027, 0.3722973 ,\n",
      "       0.36554054, 0.34864865, 0.35135135, 0.25945946, 0.26418919]), array([0.31216216, 0.30608108, 0.29324324, 0.29459459, 0.32364865,\n",
      "       0.32905405, 0.33851351, 0.35067568, 0.34189189, 0.38918919,\n",
      "       0.3972973 , 0.43648649, 0.42905405, 0.46216216, 0.47905405,\n",
      "       0.49594595, 0.52972973, 0.54189189, 0.55608108, 0.58243243,\n",
      "       0.57297297, 0.55810811, 0.56081081, 0.57905405, 0.63378378,\n",
      "       0.62364865, 0.5777027 , 0.57297297, 0.70067568, 0.69594595,\n",
      "       0.76824324, 0.71756757, 0.62837838, 0.55135135, 0.53648649,\n",
      "       0.50945946, 0.51486486, 0.49797297, 0.49797297, 0.49662162,\n",
      "       0.49797297, 0.5027027 , 0.49189189, 0.49797297, 0.49797297,\n",
      "       0.47635135, 0.46216216, 0.51283784, 0.49797297, 0.45945946,\n",
      "       0.44662162, 0.43175676, 0.44527027, 0.3722973 , 0.36554054,\n",
      "       0.34864865, 0.35135135, 0.25945946, 0.26418919, 0.22567568])]\n"
     ]
    }
   ],
   "source": [
    "#Create the training data set\n",
    "#Create the scaled training data set\n",
    "train_data = scaled_data[0:training_data_len, :]\n",
    "#Sprint the data into x_train and y_train data sets\n",
    "x_train = []\n",
    "y_train = []\n",
    "\n",
    "for i in range(60, len(train_data)):\n",
    "    x_train.append(train_data[i-60:i, 0])\n",
    "    y_train.append(train_data[i,0])\n",
    "    if i<=61:\n",
    "        print(x_train)\n",
    "        #print(y_train)\n",
    "       # print()"
   ]
  },
  {
   "cell_type": "code",
   "execution_count": 22,
   "metadata": {},
   "outputs": [
    {
     "name": "stdout",
     "output_type": "stream",
     "text": [
      "[[0.26824324 0.31216216 0.30608108 ... 0.35135135 0.25945946 0.26418919]\n",
      " [0.31216216 0.30608108 0.29324324 ... 0.25945946 0.26418919 0.22567568]\n",
      " [0.30608108 0.29324324 0.29459459 ... 0.26418919 0.22567568 0.22702703]\n",
      " ...\n",
      " [0.53648649 0.50945946 0.51486486 ... 0.14527027 0.14527027 0.14527027]\n",
      " [0.50945946 0.51486486 0.49797297 ... 0.14527027 0.14527027 0.25675676]\n",
      " [0.51486486 0.49797297 0.49797297 ... 0.14527027 0.25675676 0.25675676]]\n"
     ]
    }
   ],
   "source": [
    "# Convert the x_train and y_train to numpy arrays\n",
    "x_train, y_train = np.array(x_train), np.array(y_train)\n",
    "print(x_train)"
   ]
  },
  {
   "cell_type": "code",
   "execution_count": 23,
   "metadata": {},
   "outputs": [
    {
     "data": {
      "text/plain": [
       "array([[[0.26824324],\n",
       "        [0.31216216],\n",
       "        [0.30608108],\n",
       "        ...,\n",
       "        [0.35135135],\n",
       "        [0.25945946],\n",
       "        [0.26418919]],\n",
       "\n",
       "       [[0.31216216],\n",
       "        [0.30608108],\n",
       "        [0.29324324],\n",
       "        ...,\n",
       "        [0.25945946],\n",
       "        [0.26418919],\n",
       "        [0.22567568]],\n",
       "\n",
       "       [[0.30608108],\n",
       "        [0.29324324],\n",
       "        [0.29459459],\n",
       "        ...,\n",
       "        [0.26418919],\n",
       "        [0.22567568],\n",
       "        [0.22702703]],\n",
       "\n",
       "       ...,\n",
       "\n",
       "       [[0.53648649],\n",
       "        [0.50945946],\n",
       "        [0.51486486],\n",
       "        ...,\n",
       "        [0.14527027],\n",
       "        [0.14527027],\n",
       "        [0.14527027]],\n",
       "\n",
       "       [[0.50945946],\n",
       "        [0.51486486],\n",
       "        [0.49797297],\n",
       "        ...,\n",
       "        [0.14527027],\n",
       "        [0.14527027],\n",
       "        [0.25675676]],\n",
       "\n",
       "       [[0.51486486],\n",
       "        [0.49797297],\n",
       "        [0.49797297],\n",
       "        ...,\n",
       "        [0.14527027],\n",
       "        [0.25675676],\n",
       "        [0.25675676]]])"
      ]
     },
     "execution_count": 23,
     "metadata": {},
     "output_type": "execute_result"
    }
   ],
   "source": [
    "#Reshape the data\n",
    "x_train = np.reshape(x_train,(x_train.shape[0],x_train.shape[1],1))\n",
    "x_train"
   ]
  },
  {
   "cell_type": "code",
   "execution_count": 24,
   "metadata": {},
   "outputs": [],
   "source": [
    "#Build the LSTM Model\n",
    "model = Sequential()\n",
    "model.add(LSTM(50, return_sequences=True, input_shape =(x_train.shape[1], 1)))\n",
    "model.add(LSTM(50, return_sequences = False))\n",
    "model.add(Dense(25))\n",
    "model.add(Dense(1))"
   ]
  },
  {
   "cell_type": "code",
   "execution_count": 25,
   "metadata": {},
   "outputs": [],
   "source": [
    "#Compile the model\n",
    "model.compile(optimizer='adam', loss='mean_squared_error')"
   ]
  },
  {
   "cell_type": "code",
   "execution_count": 26,
   "metadata": {},
   "outputs": [
    {
     "name": "stdout",
     "output_type": "stream",
     "text": [
      "Epoch 1/1\n",
      "38/38 [==============================] - 3s 92ms/step - loss: 0.0066\n"
     ]
    },
    {
     "data": {
      "text/plain": [
       "<keras.callbacks.callbacks.History at 0x2841c4f40c8>"
      ]
     },
     "execution_count": 26,
     "metadata": {},
     "output_type": "execute_result"
    }
   ],
   "source": [
    "#Train the model\n",
    "model.fit(x_train, y_train, batch_size=1, epochs=1)"
   ]
  },
  {
   "cell_type": "code",
   "execution_count": 27,
   "metadata": {},
   "outputs": [],
   "source": [
    "#Create the testing data set\n",
    "#Create a new array containing scaled values from index 1543 to 2003\n",
    "test_data = scaled_data[training_data_len - 60: , :]\n",
    "#Create the data ets x_test and y_test\n",
    "x_test = []\n",
    "y_test = dataset[training_data_len:, :]\n",
    "for i in range(60, len(test_data)):\n",
    "    x_test.append(test_data[i-60:i, 0])"
   ]
  },
  {
   "cell_type": "code",
   "execution_count": 28,
   "metadata": {},
   "outputs": [],
   "source": [
    "#Convert the data to a numpy array\n",
    "x_test = np.array(x_test)"
   ]
  },
  {
   "cell_type": "code",
   "execution_count": 29,
   "metadata": {},
   "outputs": [],
   "source": [
    "#Reshape the data\n",
    "x_test = np.reshape(x_test, (x_test.shape[0], x_test.shape[1], 1))"
   ]
  },
  {
   "cell_type": "code",
   "execution_count": 30,
   "metadata": {},
   "outputs": [],
   "source": [
    "#Get the models predicted price values\n",
    "predictions = model.predict(x_test)\n",
    "predictions = scaler.inverse_transform(predictions)"
   ]
  },
  {
   "cell_type": "code",
   "execution_count": 31,
   "metadata": {},
   "outputs": [
    {
     "name": "stdout",
     "output_type": "stream",
     "text": [
      "2.2984779511258426\n"
     ]
    }
   ],
   "source": [
    "#Get the root mean squared error (RMSE)\n",
    "rmse=np.sqrt(np.mean(((predictions- y_test)**2)))\n",
    "print(rmse)"
   ]
  },
  {
   "cell_type": "code",
   "execution_count": 34,
   "metadata": {},
   "outputs": [
    {
     "name": "stderr",
     "output_type": "stream",
     "text": [
      "C:\\Users\\Admin\\anaconda3\\lib\\site-packages\\ipykernel_launcher.py:4: SettingWithCopyWarning: \n",
      "A value is trying to be set on a copy of a slice from a DataFrame.\n",
      "Try using .loc[row_indexer,col_indexer] = value instead\n",
      "\n",
      "See the caveats in the documentation: https://pandas.pydata.org/pandas-docs/stable/user_guide/indexing.html#returning-a-view-versus-a-copy\n",
      "  after removing the cwd from sys.path.\n"
     ]
    },
    {
     "data": {
      "image/png": "[encoded data removed]",
      "text/plain": [
       "<Figure size 1152x576 with 1 Axes>"
      ]
     },
     "metadata": {
      "needs_background": "light"
     },
     "output_type": "display_data"
    }
   ],
   "source": [
    "#Plot the data\n",
    "train = data[:training_data_len]\n",
    "valid = data[training_data_len:]\n",
    "valid['Predictions'] = predictions\n",
    "#Visualize the data\n",
    "plt.figure(figsize=(16,8))\n",
    "plt.title('Market Price')\n",
    "plt.xlabel('Date', fontsize=18)\n",
    "plt.ylabel('Price', fontsize = 18)\n",
    "plt.plot(train['ave'])\n",
    "plt.plot(valid[['ave', 'Predictions']])\n",
    "plt.legend(['Train', 'True Value', 'Predictions'], loc = 'lower right')\n",
    "plt.show()"
   ]
  },
  {
   "cell_type": "code",
   "execution_count": 26,
   "metadata": {
    "collapsed": true
   },
   "outputs": [
    {
     "data": {
      "text/html": [
       "<div>\n",
       "<style scoped>\n",
       "    .dataframe tbody tr th:only-of-type {\n",
       "        vertical-align: middle;\n",
       "    }\n",
       "\n",
       "    .dataframe tbody tr th {\n",
       "        vertical-align: top;\n",
       "    }\n",
       "\n",
       "    .dataframe thead th {\n",
       "        text-align: right;\n",
       "    }\n",
       "</style>\n",
       "<table border=\"1\" class=\"dataframe\">\n",
       "  <thead>\n",
       "    <tr style=\"text-align: right;\">\n",
       "      <th></th>\n",
       "      <th>price</th>\n",
       "      <th>Predictions</th>\n",
       "    </tr>\n",
       "  </thead>\n",
       "  <tbody>\n",
       "    <tr>\n",
       "      <th>557</th>\n",
       "      <td>18.30</td>\n",
       "      <td>16.946522</td>\n",
       "    </tr>\n",
       "    <tr>\n",
       "      <th>558</th>\n",
       "      <td>18.30</td>\n",
       "      <td>17.073996</td>\n",
       "    </tr>\n",
       "    <tr>\n",
       "      <th>559</th>\n",
       "      <td>17.55</td>\n",
       "      <td>17.208267</td>\n",
       "    </tr>\n",
       "    <tr>\n",
       "      <th>560</th>\n",
       "      <td>18.15</td>\n",
       "      <td>17.328157</td>\n",
       "    </tr>\n",
       "    <tr>\n",
       "      <th>579</th>\n",
       "      <td>21.34</td>\n",
       "      <td>17.445038</td>\n",
       "    </tr>\n",
       "    <tr>\n",
       "      <th>580</th>\n",
       "      <td>20.28</td>\n",
       "      <td>17.625002</td>\n",
       "    </tr>\n",
       "    <tr>\n",
       "      <th>581</th>\n",
       "      <td>22.19</td>\n",
       "      <td>17.831821</td>\n",
       "    </tr>\n",
       "    <tr>\n",
       "      <th>582</th>\n",
       "      <td>21.65</td>\n",
       "      <td>18.093513</td>\n",
       "    </tr>\n",
       "    <tr>\n",
       "      <th>583</th>\n",
       "      <td>20.48</td>\n",
       "      <td>18.380798</td>\n",
       "    </tr>\n",
       "    <tr>\n",
       "      <th>584</th>\n",
       "      <td>22.11</td>\n",
       "      <td>18.653345</td>\n",
       "    </tr>\n",
       "    <tr>\n",
       "      <th>603</th>\n",
       "      <td>17.72</td>\n",
       "      <td>18.937452</td>\n",
       "    </tr>\n",
       "    <tr>\n",
       "      <th>604</th>\n",
       "      <td>17.45</td>\n",
       "      <td>19.130489</td>\n",
       "    </tr>\n",
       "    <tr>\n",
       "      <th>605</th>\n",
       "      <td>17.81</td>\n",
       "      <td>19.234949</td>\n",
       "    </tr>\n",
       "    <tr>\n",
       "      <th>606</th>\n",
       "      <td>17.09</td>\n",
       "      <td>19.273407</td>\n",
       "    </tr>\n",
       "    <tr>\n",
       "      <th>607</th>\n",
       "      <td>18.24</td>\n",
       "      <td>19.245697</td>\n",
       "    </tr>\n",
       "    <tr>\n",
       "      <th>608</th>\n",
       "      <td>18.02</td>\n",
       "      <td>19.192917</td>\n",
       "    </tr>\n",
       "    <tr>\n",
       "      <th>627</th>\n",
       "      <td>17.45</td>\n",
       "      <td>19.121737</td>\n",
       "    </tr>\n",
       "    <tr>\n",
       "      <th>628</th>\n",
       "      <td>17.06</td>\n",
       "      <td>19.028669</td>\n",
       "    </tr>\n",
       "    <tr>\n",
       "      <th>629</th>\n",
       "      <td>17.89</td>\n",
       "      <td>18.913879</td>\n",
       "    </tr>\n",
       "    <tr>\n",
       "      <th>630</th>\n",
       "      <td>16.93</td>\n",
       "      <td>18.803492</td>\n",
       "    </tr>\n",
       "    <tr>\n",
       "      <th>631</th>\n",
       "      <td>17.07</td>\n",
       "      <td>18.681469</td>\n",
       "    </tr>\n",
       "    <tr>\n",
       "      <th>632</th>\n",
       "      <td>18.28</td>\n",
       "      <td>18.556265</td>\n",
       "    </tr>\n",
       "    <tr>\n",
       "      <th>651</th>\n",
       "      <td>18.62</td>\n",
       "      <td>18.458298</td>\n",
       "    </tr>\n",
       "    <tr>\n",
       "      <th>652</th>\n",
       "      <td>18.29</td>\n",
       "      <td>18.393953</td>\n",
       "    </tr>\n",
       "    <tr>\n",
       "      <th>653</th>\n",
       "      <td>19.82</td>\n",
       "      <td>18.351799</td>\n",
       "    </tr>\n",
       "    <tr>\n",
       "      <th>654</th>\n",
       "      <td>17.87</td>\n",
       "      <td>18.359968</td>\n",
       "    </tr>\n",
       "    <tr>\n",
       "      <th>655</th>\n",
       "      <td>18.03</td>\n",
       "      <td>18.367355</td>\n",
       "    </tr>\n",
       "    <tr>\n",
       "      <th>656</th>\n",
       "      <td>19.14</td>\n",
       "      <td>18.373589</td>\n",
       "    </tr>\n",
       "    <tr>\n",
       "      <th>675</th>\n",
       "      <td>21.18</td>\n",
       "      <td>18.400810</td>\n",
       "    </tr>\n",
       "    <tr>\n",
       "      <th>676</th>\n",
       "      <td>20.18</td>\n",
       "      <td>18.487711</td>\n",
       "    </tr>\n",
       "    <tr>\n",
       "      <th>677</th>\n",
       "      <td>21.88</td>\n",
       "      <td>18.600729</td>\n",
       "    </tr>\n",
       "    <tr>\n",
       "      <th>678</th>\n",
       "      <td>20.45</td>\n",
       "      <td>18.765125</td>\n",
       "    </tr>\n",
       "    <tr>\n",
       "      <th>679</th>\n",
       "      <td>21.55</td>\n",
       "      <td>18.935894</td>\n",
       "    </tr>\n",
       "    <tr>\n",
       "      <th>680</th>\n",
       "      <td>21.83</td>\n",
       "      <td>19.126623</td>\n",
       "    </tr>\n",
       "  </tbody>\n",
       "</table>\n",
       "</div>"
      ],
      "text/plain": [
       "     price  Predictions\n",
       "557  18.30    16.946522\n",
       "558  18.30    17.073996\n",
       "559  17.55    17.208267\n",
       "560  18.15    17.328157\n",
       "579  21.34    17.445038\n",
       "580  20.28    17.625002\n",
       "581  22.19    17.831821\n",
       "582  21.65    18.093513\n",
       "583  20.48    18.380798\n",
       "584  22.11    18.653345\n",
       "603  17.72    18.937452\n",
       "604  17.45    19.130489\n",
       "605  17.81    19.234949\n",
       "606  17.09    19.273407\n",
       "607  18.24    19.245697\n",
       "608  18.02    19.192917\n",
       "627  17.45    19.121737\n",
       "628  17.06    19.028669\n",
       "629  17.89    18.913879\n",
       "630  16.93    18.803492\n",
       "631  17.07    18.681469\n",
       "632  18.28    18.556265\n",
       "651  18.62    18.458298\n",
       "652  18.29    18.393953\n",
       "653  19.82    18.351799\n",
       "654  17.87    18.359968\n",
       "655  18.03    18.367355\n",
       "656  19.14    18.373589\n",
       "675  21.18    18.400810\n",
       "676  20.18    18.487711\n",
       "677  21.88    18.600729\n",
       "678  20.45    18.765125\n",
       "679  21.55    18.935894\n",
       "680  21.83    19.126623"
      ]
     },
     "execution_count": 26,
     "metadata": {},
     "output_type": "execute_result"
    }
   ],
   "source": [
    "#Show the valid and predicted prices\n",
    "valid"
   ]
  },
  {
   "cell_type": "code",
   "execution_count": 27,
   "metadata": {},
   "outputs": [],
   "source": [
    "from keras.models import Sequential, load_model\n",
    "from keras.layers import LSTM, Dense, Dropout"
   ]
  },
  {
   "cell_type": "code",
   "execution_count": 35,
   "metadata": {},
   "outputs": [
    {
     "name": "stdout",
     "output_type": "stream",
     "text": [
      "(174, 1)\n"
     ]
    },
    {
     "data": {
      "text/plain": [
       "array([[5.16],\n",
       "       [5.16],\n",
       "       [5.09],\n",
       "       [5.1 ],\n",
       "       [5.22]])"
      ]
     },
     "execution_count": 35,
     "metadata": {},
     "output_type": "execute_result"
    }
   ],
   "source": [
    "ilocos_region = rice_data[rice_data.REGION == 'ilocos region']\n",
    "ilocos_region = ilocos_region.interpolate(method='nearest')\n",
    "ilocos_region = ilocos_region['price'].values\n",
    "ilocos_region = ilocos_region.reshape(-1, 1)\n",
    "print(ilocos_region.shape)\n",
    "# To see the first five items\n",
    "ilocos_region[:5] "
   ]
  },
  {
   "cell_type": "code",
   "execution_count": 37,
   "metadata": {},
   "outputs": [
    {
     "name": "stdout",
     "output_type": "stream",
     "text": [
      "(139, 1)\n",
      "(85, 1)\n"
     ]
    }
   ],
   "source": [
    "# Split them into training and test sets\n",
    "\n",
    "dataset_train = np.array(ilocos_region[:int(ilocos_region.shape[0]*0.8)])\n",
    "dataset_test = np.array(ilocos_region[int(ilocos_region.shape[0]*0.8)-50:])\n",
    "print(dataset_train.shape)\n",
    "print(dataset_test.shape)"
   ]
  },
  {
   "cell_type": "code",
   "execution_count": 38,
   "metadata": {},
   "outputs": [
    {
     "data": {
      "text/plain": [
       "array([[0.04129129],\n",
       "       [0.04129129],\n",
       "       [0.03603604],\n",
       "       [0.03678679],\n",
       "       [0.0457958 ]])"
      ]
     },
     "execution_count": 38,
     "metadata": {},
     "output_type": "execute_result"
    }
   ],
   "source": [
    "scaler = MinMaxScaler(feature_range=(0,1))\n",
    "dataset_train = scaler.fit_transform(dataset_train)\n",
    "dataset_train[:5]"
   ]
  },
  {
   "cell_type": "code",
   "execution_count": 39,
   "metadata": {},
   "outputs": [
    {
     "data": {
      "text/plain": [
       "array([[0.38663664],\n",
       "       [0.45495495],\n",
       "       [0.31831832],\n",
       "       [0.49249249],\n",
       "       [0.48573574]])"
      ]
     },
     "execution_count": 39,
     "metadata": {},
     "output_type": "execute_result"
    }
   ],
   "source": [
    "dataset_test = scaler.transform(dataset_test)\n",
    "dataset_test[:5]"
   ]
  },
  {
   "cell_type": "code",
   "execution_count": 40,
   "metadata": {},
   "outputs": [],
   "source": [
    "\n",
    "def create_dataset(df):\n",
    "    x = []\n",
    "    y = []\n",
    "    for i in range(50, df.shape[0]):\n",
    "        x.append(df[i-50:i, 0])\n",
    "        y.append(df[i, 0])\n",
    "    x = np.array(x)\n",
    "    y = np.array(y)\n",
    "    return x,y"
   ]
  },
  {
   "cell_type": "code",
   "execution_count": 41,
   "metadata": {},
   "outputs": [
    {
     "data": {
      "text/plain": [
       "array([[0.04129129, 0.04129129, 0.03603604, 0.03678679, 0.0457958 ,\n",
       "        0.03528529, 0.05105105, 0.08858859, 0.00225225, 0.01426426,\n",
       "        0.0533033 , 0.00975976, 0.0457958 , 0.04129129, 0.        ,\n",
       "        0.02327327, 0.04954955, 0.01276276, 0.10285285, 0.07657658,\n",
       "        0.09309309, 0.12237237, 0.10960961, 0.11186186, 0.14489489,\n",
       "        0.08033033, 0.12762763, 0.13438438, 0.14039039, 0.13063063,\n",
       "        0.22672673, 0.23048048, 0.21396396, 0.22822823, 0.23498498,\n",
       "        0.22747748, 0.3475976 , 0.32957958, 0.34534535, 0.34684685,\n",
       "        0.37537538, 0.33933934, 0.27252252, 0.2545045 , 0.27927928,\n",
       "        0.26351351, 0.27252252, 0.29429429, 0.31831832, 0.31831832]])"
      ]
     },
     "execution_count": 41,
     "metadata": {},
     "output_type": "execute_result"
    }
   ],
   "source": [
    "x_train, y_train = create_dataset(dataset_train)\n",
    "x_train[:1]"
   ]
  },
  {
   "cell_type": "code",
   "execution_count": 42,
   "metadata": {},
   "outputs": [
    {
     "data": {
      "text/plain": [
       "array([[0.38663664, 0.45495495, 0.31831832, 0.49249249, 0.48573574,\n",
       "        0.48498498, 0.49249249, 0.46096096, 0.29204204, 0.5015015 ,\n",
       "        0.4954955 , 0.49174174, 0.52477477, 0.48873874, 0.36936937,\n",
       "        0.54129129, 0.50525526, 0.50825826, 0.52027027, 0.77327327,\n",
       "        0.62462462, 0.81306306, 0.79954955, 0.84084084, 0.78678679,\n",
       "        0.78003003, 0.63288288, 0.86411411, 0.76126126, 0.81606607,\n",
       "        0.82507508, 0.79354354, 0.72072072, 0.80555556, 0.80930931,\n",
       "        0.82207207, 0.80930931, 0.87312312, 0.79129129, 0.90315315,\n",
       "        0.85435435, 0.85435435, 0.89564565, 0.93393393, 0.92717718,\n",
       "        0.93993994, 0.92042042, 0.91741742, 0.96246246, 1.        ]])"
      ]
     },
     "execution_count": 42,
     "metadata": {},
     "output_type": "execute_result"
    }
   ],
   "source": [
    "x_test, y_test = create_dataset(dataset_test)\n",
    "x_test[:1]"
   ]
  },
  {
   "cell_type": "code",
   "execution_count": 43,
   "metadata": {},
   "outputs": [],
   "source": [
    "# Reshape features for LSTM Layer\n",
    "x_train = np.reshape(x_train, (x_train.shape[0], x_train.shape[1], 1))\n",
    "x_test = np.reshape(x_test, (x_test.shape[0], x_test.shape[1], 1))"
   ]
  },
  {
   "cell_type": "code",
   "execution_count": 44,
   "metadata": {},
   "outputs": [],
   "source": [
    "model = Sequential()\n",
    "model.add(LSTM(units=96, return_sequences=True, input_shape=(x_train.shape[1], 1)))\n",
    "model.add(Dropout(0.2))\n",
    "model.add(LSTM(units=96, return_sequences=True))\n",
    "model.add(Dropout(0.2))\n",
    "model.add(LSTM(units=96, return_sequences=True))\n",
    "model.add(Dropout(0.2))\n",
    "model.add(LSTM(units=96))\n",
    "model.add(Dropout(0.2))\n",
    "model.add(Dense(units=1))"
   ]
  },
  {
   "cell_type": "code",
   "execution_count": 45,
   "metadata": {},
   "outputs": [],
   "source": [
    "model.compile(loss='mean_squared_error', optimizer='adam')"
   ]
  },
  {
   "cell_type": "code",
   "execution_count": 47,
   "metadata": {},
   "outputs": [
    {
     "name": "stdout",
     "output_type": "stream",
     "text": [
      "Epoch 1/50\n",
      "89/89 [==============================] - 2s 22ms/step - loss: 0.2191\n",
      "Epoch 2/50\n",
      "89/89 [==============================] - 0s 3ms/step - loss: 0.0780\n",
      "Epoch 3/50\n",
      "89/89 [==============================] - 0s 3ms/step - loss: 0.0391\n",
      "Epoch 4/50\n",
      "89/89 [==============================] - 0s 3ms/step - loss: 0.0644\n",
      "Epoch 5/50\n",
      "89/89 [==============================] - 0s 4ms/step - loss: 0.0266\n",
      "Epoch 6/50\n",
      "89/89 [==============================] - 0s 4ms/step - loss: 0.0284\n",
      "Epoch 7/50\n",
      "89/89 [==============================] - 0s 4ms/step - loss: 0.0204\n",
      "Epoch 8/50\n",
      "89/89 [==============================] - 0s 3ms/step - loss: 0.0230\n",
      "Epoch 9/50\n",
      "89/89 [==============================] - 0s 3ms/step - loss: 0.0201\n",
      "Epoch 10/50\n",
      "89/89 [==============================] - 0s 3ms/step - loss: 0.0131\n",
      "Epoch 11/50\n",
      "89/89 [==============================] - 0s 3ms/step - loss: 0.0145\n",
      "Epoch 12/50\n",
      "89/89 [==============================] - 0s 3ms/step - loss: 0.0150\n",
      "Epoch 13/50\n",
      "89/89 [==============================] - 0s 3ms/step - loss: 0.0106\n",
      "Epoch 14/50\n",
      "89/89 [==============================] - 0s 3ms/step - loss: 0.0110\n",
      "Epoch 15/50\n",
      "89/89 [==============================] - 0s 3ms/step - loss: 0.0106\n",
      "Epoch 16/50\n",
      "89/89 [==============================] - 0s 3ms/step - loss: 0.0101\n",
      "Epoch 17/50\n",
      "89/89 [==============================] - 0s 3ms/step - loss: 0.0092\n",
      "Epoch 18/50\n",
      "89/89 [==============================] - 0s 3ms/step - loss: 0.0093\n",
      "Epoch 19/50\n",
      "89/89 [==============================] - 0s 3ms/step - loss: 0.0090\n",
      "Epoch 20/50\n",
      "89/89 [==============================] - 0s 3ms/step - loss: 0.0102\n",
      "Epoch 21/50\n",
      "89/89 [==============================] - 0s 3ms/step - loss: 0.0095\n",
      "Epoch 22/50\n",
      "89/89 [==============================] - 0s 3ms/step - loss: 0.0086\n",
      "Epoch 23/50\n",
      "89/89 [==============================] - 0s 4ms/step - loss: 0.0105\n",
      "Epoch 24/50\n",
      "89/89 [==============================] - 0s 4ms/step - loss: 0.0083\n",
      "Epoch 25/50\n",
      "89/89 [==============================] - 0s 3ms/step - loss: 0.0096\n",
      "Epoch 26/50\n",
      "89/89 [==============================] - 0s 3ms/step - loss: 0.0097\n",
      "Epoch 27/50\n",
      "89/89 [==============================] - 0s 3ms/step - loss: 0.0096\n",
      "Epoch 28/50\n",
      "89/89 [==============================] - 0s 3ms/step - loss: 0.0076\n",
      "Epoch 29/50\n",
      "89/89 [==============================] - 0s 3ms/step - loss: 0.0086\n",
      "Epoch 30/50\n",
      "89/89 [==============================] - 0s 3ms/step - loss: 0.0107\n",
      "Epoch 31/50\n",
      "89/89 [==============================] - 0s 3ms/step - loss: 0.0096\n",
      "Epoch 32/50\n",
      "89/89 [==============================] - 0s 3ms/step - loss: 0.0096\n",
      "Epoch 33/50\n",
      "89/89 [==============================] - 0s 3ms/step - loss: 0.0088\n",
      "Epoch 34/50\n",
      "89/89 [==============================] - 0s 3ms/step - loss: 0.0100\n",
      "Epoch 35/50\n",
      "89/89 [==============================] - 0s 3ms/step - loss: 0.0080\n",
      "Epoch 36/50\n",
      "89/89 [==============================] - 0s 3ms/step - loss: 0.0096\n",
      "Epoch 37/50\n",
      "89/89 [==============================] - 0s 3ms/step - loss: 0.0074\n",
      "Epoch 38/50\n",
      "89/89 [==============================] - 0s 3ms/step - loss: 0.0083\n",
      "Epoch 39/50\n",
      "89/89 [==============================] - 0s 3ms/step - loss: 0.0084\n",
      "Epoch 40/50\n",
      "89/89 [==============================] - 0s 3ms/step - loss: 0.0091\n",
      "Epoch 41/50\n",
      "89/89 [==============================] - 0s 3ms/step - loss: 0.0071\n",
      "Epoch 42/50\n",
      "89/89 [==============================] - 0s 4ms/step - loss: 0.0091\n",
      "Epoch 43/50\n",
      "89/89 [==============================] - 0s 3ms/step - loss: 0.0082\n",
      "Epoch 44/50\n",
      "89/89 [==============================] - 0s 3ms/step - loss: 0.0080\n",
      "Epoch 45/50\n",
      "89/89 [==============================] - 0s 3ms/step - loss: 0.0073\n",
      "Epoch 46/50\n",
      "89/89 [==============================] - 0s 3ms/step - loss: 0.0077\n",
      "Epoch 47/50\n",
      "89/89 [==============================] - 0s 3ms/step - loss: 0.0094\n",
      "Epoch 48/50\n",
      "89/89 [==============================] - 0s 3ms/step - loss: 0.0080\n",
      "Epoch 49/50\n",
      "89/89 [==============================] - 0s 3ms/step - loss: 0.0080\n",
      "Epoch 50/50\n",
      "89/89 [==============================] - 0s 3ms/step - loss: 0.0070\n"
     ]
    }
   ],
   "source": [
    "import os\n",
    "if(not os.path.exists('stock_prediction.h5')):\n",
    "    model.fit(x_train, y_train, epochs=50, batch_size=32)\n",
    "    model.save('stock_prediction.h5')"
   ]
  },
  {
   "cell_type": "code",
   "execution_count": 48,
   "metadata": {},
   "outputs": [],
   "source": [
    "model = load_model('stock_prediction.h5')"
   ]
  },
  {
   "cell_type": "code",
   "execution_count": 50,
   "metadata": {},
   "outputs": [
    {
     "data": {
      "text/plain": [
       "<matplotlib.legend.Legend at 0x11a5bdeaa48>"
      ]
     },
     "execution_count": 50,
     "metadata": {},
     "output_type": "execute_result"
    },
    {
     "data": {
      "image/png": "[encoded data removed]",
      "text/plain": [
       "<Figure size 576x288 with 1 Axes>"
      ]
     },
     "metadata": {
      "needs_background": "light"
     },
     "output_type": "display_data"
    }
   ],
   "source": [
    "predictions = model.predict(x_test)\n",
    "predictions = scaler.inverse_transform(predictions)\n",
    "\n",
    "fig, ax = plt.subplots(figsize=(8,4))\n",
    "plt.plot(ilocos_region, color='red',  label=\"True Price\")\n",
    "ax.plot(range(len(y_train)+50,len(y_train)+50+len(predictions)),predictions, color='blue', label='Predicted Testing Price')\n",
    "plt.legend()"
   ]
  },
  {
   "cell_type": "code",
   "execution_count": 51,
   "metadata": {},
   "outputs": [
    {
     "data": {
      "text/plain": [
       "<matplotlib.legend.Legend at 0x11a5be67648>"
      ]
     },
     "execution_count": 51,
     "metadata": {},
     "output_type": "execute_result"
    },
    {
     "data": {
      "image/png": "[encoded data removed]",
      "text/plain": [
       "<Figure size 576x288 with 1 Axes>"
      ]
     },
     "metadata": {
      "needs_background": "light"
     },
     "output_type": "display_data"
    }
   ],
   "source": [
    "y_test_scaled = scaler.inverse_transform(y_test.reshape(-1, 1))\n",
    "\n",
    "fig, ax = plt.subplots(figsize=(8,4))\n",
    "ax.plot(y_test_scaled, color='red', label='True Testing Price')\n",
    "plt.plot(predictions, color='blue', label='Predicted Testing Price')\n",
    "plt.legend()"
   ]
  },
  {
   "cell_type": "code",
   "execution_count": null,
   "metadata": {},
   "outputs": [],
   "source": []
  }
 ],
 "metadata": {
  "kernelspec": {
   "display_name": "Python 3",
   "language": "python",
   "name": "python3"
  },
  "language_info": {
   "codemirror_mode": {
    "name": "ipython",
    "version": 3
   },
   "file_extension": ".py",
   "mimetype": "text/x-python",
   "name": "python",
   "nbconvert_exporter": "python",
   "pygments_lexer": "ipython3",
   "version": "3.7.6"
  }
 },
 "nbformat": 4,
 "nbformat_minor": 4
}
